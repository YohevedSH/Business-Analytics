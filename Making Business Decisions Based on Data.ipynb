{
 "cells": [
  {
   "cell_type": "markdown",
   "metadata": {},
   "source": [
    "   # Making Business Decisions Based on Data"
   ]
  },
  {
   "cell_type": "markdown",
   "metadata": {},
   "source": [
    "# Project description"
   ]
  },
  {
   "cell_type": "markdown",
   "metadata": {},
   "source": [
    "You are an analyst at a big online store. Together with the marketing department, you've compiled a list of hypotheses that may help boost revenue.\n",
    "You need to prioritize these hypotheses, launch an A/B test, and analyze the results."
   ]
  },
  {
   "cell_type": "markdown",
   "metadata": {},
   "source": [
    "# Description of the data\n"
   ]
  },
  {
   "cell_type": "markdown",
   "metadata": {},
   "source": [
    "**Data used in the first part of the project:**\n"
   ]
  },
  {
   "cell_type": "markdown",
   "metadata": {},
   "source": [
    "*/datasets/hypotheses_us.csv*\n",
    " - Hypotheses — brief descriptions of the hypotheses\n",
    " - Reach — user reach, on a scale of one to ten\n",
    " - Impact — impact on users, on a scale of one to ten\n",
    " - Confidence — confidence in the hypothesis, on a scale of one to ten\n",
    " - Effort — the resources required to test a hypothesis, on a scale of one to ten. The higher the Effort value, the more resource-intensive the test."
   ]
  },
  {
   "cell_type": "markdown",
   "metadata": {},
   "source": [
    "**Data used in the second part of the project:**\n",
    "\n"
   ]
  },
  {
   "cell_type": "markdown",
   "metadata": {},
   "source": [
    "*/datasets/orders_us.csv*\n",
    "\n",
    " - transactionId — order identifier\n",
    " - visitorId — identifier of the user who placed the order\n",
    " - date — of the order\n",
    " - revenue — from the order\n",
    " - group — the A/B test group that the user belongs to\n",
    " \n",
    "*/datasets/visits_us.csv*\n",
    " \n",
    " - date — date\n",
    " - group — A/B test group\n",
    " - visits — the number of visits on the date specified in the A/B test group specified"
   ]
  },
  {
   "cell_type": "markdown",
   "metadata": {},
   "source": [
    "# Project steps"
   ]
  },
  {
   "cell_type": "markdown",
   "metadata": {},
   "source": [
    "# Part 1. Prioritizing Hypotheses\n",
    "**The task is to:**\n",
    " - Apply the ICE framework to prioritize hypotheses. Sort them in descending order of priority.\n",
    " - Apply the RICE framework to prioritize hypotheses. Sort them in descending order of priority.\n",
    " - Show how the prioritization of hypotheses changes when you use RICE instead of ICE. Provide an explanation for the changes."
   ]
  },
  {
   "cell_type": "markdown",
   "metadata": {},
   "source": [
    "# Part 2. A/B Test Analysis"
   ]
  },
  {
   "cell_type": "markdown",
   "metadata": {},
   "source": [
    "**Analyze the A/B test:**\n",
    " 1. Graph cumulative revenue by group. Make conclusions and conjectures.\n",
    " 2. Graph cumulative average order size by group. Make conclusions and conjectures.\n",
    " 3. Graph the relative difference in cumulative average order size for group B compared with group A. Make conclusions and conjectures.\n",
    " 4. Calculate each group's conversion rate as the ratio of orders to the number of visits for each day. Plot the daily conversion rates of the two groups and describe the difference. Draw conclusions and make conjectures.\n",
    " 5. Plot a scatter chart of the number of orders per user. Make conclusions and conjectures.\n",
    " 6. Calculate the 95th and 99th percentiles for the number of orders per user. Define the point at which a data point becomes an anomaly.\n",
    " 7. Plot a scatter chart of order prices. Make conclusions and conjectures.\n",
    " 8. Calculate the 95th and 99th percentiles of order prices. Define the point at which a data point becomes an anomaly.\n",
    " 9. Find the statistical significance of the difference in conversion between the groups using the raw data. Make conclusions and conjectures.\n",
    " 10. Find the statistical significance of the difference in average order size between the groups using the raw data. Make conclusions and conjectures.\n",
    " 11. Find the statistical significance of the difference in conversion between the groups using the filtered data. Make conclusions and conjectures.\n",
    " 12. Find the statistical significance of the difference in average order size between the groups using the filtered data. Make conclusions and conjectures.\n",
    " 13. Make a decision based on the test results. The possible decisions are: 1. Stop the test, consider one of the groups the leader. 2. Stop the test, conclude that there is no difference between the groups. 3. Continue the test.\n"
   ]
  },
  {
   "cell_type": "code",
   "execution_count": 1,
   "metadata": {},
   "outputs": [],
   "source": [
    "import warnings\n",
    "warnings.simplefilter(action='ignore', category=FutureWarning)"
   ]
  },
  {
   "cell_type": "code",
   "execution_count": 2,
   "metadata": {},
   "outputs": [],
   "source": [
    "# importing all needed libraries\n",
    "import pandas as pd\n",
    "import numpy as np\n",
    "import matplotlib.pyplot as plt\n",
    "import seaborn as sns\n",
    "from scipy import stats as st\n",
    "import math as mth\n",
    "import datetime as dt\n",
    "pd.set_option('display.max_columns', None)\n",
    "pd.set_option('display.max_colwidth', 0)"
   ]
  },
  {
   "cell_type": "code",
   "execution_count": 3,
   "metadata": {},
   "outputs": [],
   "source": [
    "try:\n",
    "    hypotheses = pd.read_csv('/Users/yoheved/Desktop/Study/hypotheses_us.csv')\n",
    "except:\n",
    "    hypotheses = pd.read_csv('/datasets/hypotheses_us.csv', sep=';')"
   ]
  },
  {
   "cell_type": "code",
   "execution_count": 4,
   "metadata": {},
   "outputs": [],
   "source": [
    "try:\n",
    "    orders = pd.read_csv('/Users/yoheved/Desktop/Study/orders_us.csv')\n",
    "except:\n",
    "    orders = pd.read_csv('/datasets/orders_us.csv', sep=',', parse_dates=['date'])"
   ]
  },
  {
   "cell_type": "code",
   "execution_count": 5,
   "metadata": {},
   "outputs": [],
   "source": [
    "try:\n",
    "    visits = pd.read_csv('/Users/yoheved/Desktop/Study/visits_us.csv')\n",
    "except:\n",
    "    visits = pd.read_csv('/datasets/visits_us.csv', sep=',', parse_dates=['date'])"
   ]
  },
  {
   "cell_type": "code",
   "execution_count": 6,
   "metadata": {},
   "outputs": [
    {
     "data": {
      "text/html": [
       "<div>\n",
       "<style scoped>\n",
       "    .dataframe tbody tr th:only-of-type {\n",
       "        vertical-align: middle;\n",
       "    }\n",
       "\n",
       "    .dataframe tbody tr th {\n",
       "        vertical-align: top;\n",
       "    }\n",
       "\n",
       "    .dataframe thead th {\n",
       "        text-align: right;\n",
       "    }\n",
       "</style>\n",
       "<table border=\"1\" class=\"dataframe\">\n",
       "  <thead>\n",
       "    <tr style=\"text-align: right;\">\n",
       "      <th></th>\n",
       "      <th>Hypothesis</th>\n",
       "      <th>Reach</th>\n",
       "      <th>Impact</th>\n",
       "      <th>Confidence</th>\n",
       "      <th>Effort</th>\n",
       "    </tr>\n",
       "  </thead>\n",
       "  <tbody>\n",
       "    <tr>\n",
       "      <td>0</td>\n",
       "      <td>Add two new channels for attracting traffic. This will bring 30% more users</td>\n",
       "      <td>3</td>\n",
       "      <td>10</td>\n",
       "      <td>8</td>\n",
       "      <td>6</td>\n",
       "    </tr>\n",
       "    <tr>\n",
       "      <td>1</td>\n",
       "      <td>Launch your own delivery service. This will shorten delivery time</td>\n",
       "      <td>2</td>\n",
       "      <td>5</td>\n",
       "      <td>4</td>\n",
       "      <td>10</td>\n",
       "    </tr>\n",
       "    <tr>\n",
       "      <td>2</td>\n",
       "      <td>Add product recommendation blocks to the store's site. This will increase conversion and average purchase size</td>\n",
       "      <td>8</td>\n",
       "      <td>3</td>\n",
       "      <td>7</td>\n",
       "      <td>3</td>\n",
       "    </tr>\n",
       "    <tr>\n",
       "      <td>3</td>\n",
       "      <td>Change the category structure. This will increase conversion since users will find the products they want more quickly</td>\n",
       "      <td>8</td>\n",
       "      <td>3</td>\n",
       "      <td>3</td>\n",
       "      <td>8</td>\n",
       "    </tr>\n",
       "    <tr>\n",
       "      <td>4</td>\n",
       "      <td>Change the background color on the main page. This will increase user engagement</td>\n",
       "      <td>3</td>\n",
       "      <td>1</td>\n",
       "      <td>1</td>\n",
       "      <td>1</td>\n",
       "    </tr>\n",
       "    <tr>\n",
       "      <td>5</td>\n",
       "      <td>Add a customer review page. This will increase the number of orders</td>\n",
       "      <td>3</td>\n",
       "      <td>2</td>\n",
       "      <td>2</td>\n",
       "      <td>3</td>\n",
       "    </tr>\n",
       "    <tr>\n",
       "      <td>6</td>\n",
       "      <td>Show banners with current offers and sales on the main page. This will boost conversion</td>\n",
       "      <td>5</td>\n",
       "      <td>3</td>\n",
       "      <td>8</td>\n",
       "      <td>3</td>\n",
       "    </tr>\n",
       "    <tr>\n",
       "      <td>7</td>\n",
       "      <td>Add a subscription form to all the main pages. This will help you compile a mailing list</td>\n",
       "      <td>10</td>\n",
       "      <td>7</td>\n",
       "      <td>8</td>\n",
       "      <td>5</td>\n",
       "    </tr>\n",
       "    <tr>\n",
       "      <td>8</td>\n",
       "      <td>Launch a promotion that gives users discounts on their birthdays</td>\n",
       "      <td>1</td>\n",
       "      <td>9</td>\n",
       "      <td>9</td>\n",
       "      <td>5</td>\n",
       "    </tr>\n",
       "  </tbody>\n",
       "</table>\n",
       "</div>"
      ],
      "text/plain": [
       "                                                                                                               Hypothesis  \\\n",
       "0  Add two new channels for attracting traffic. This will bring 30% more users                                              \n",
       "1  Launch your own delivery service. This will shorten delivery time                                                        \n",
       "2  Add product recommendation blocks to the store's site. This will increase conversion and average purchase size           \n",
       "3  Change the category structure. This will increase conversion since users will find the products they want more quickly   \n",
       "4  Change the background color on the main page. This will increase user engagement                                         \n",
       "5  Add a customer review page. This will increase the number of orders                                                      \n",
       "6  Show banners with current offers and sales on the main page. This will boost conversion                                  \n",
       "7  Add a subscription form to all the main pages. This will help you compile a mailing list                                 \n",
       "8  Launch a promotion that gives users discounts on their birthdays                                                         \n",
       "\n",
       "   Reach  Impact  Confidence  Effort  \n",
       "0  3      10      8           6       \n",
       "1  2      5       4           10      \n",
       "2  8      3       7           3       \n",
       "3  8      3       3           8       \n",
       "4  3      1       1           1       \n",
       "5  3      2       2           3       \n",
       "6  5      3       8           3       \n",
       "7  10     7       8           5       \n",
       "8  1      9       9           5       "
      ]
     },
     "execution_count": 6,
     "metadata": {},
     "output_type": "execute_result"
    }
   ],
   "source": [
    "hypotheses"
   ]
  },
  {
   "cell_type": "code",
   "execution_count": 7,
   "metadata": {},
   "outputs": [
    {
     "name": "stdout",
     "output_type": "stream",
     "text": [
      "<class 'pandas.core.frame.DataFrame'>\n",
      "RangeIndex: 9 entries, 0 to 8\n",
      "Data columns (total 5 columns):\n",
      "Hypothesis    9 non-null object\n",
      "Reach         9 non-null int64\n",
      "Impact        9 non-null int64\n",
      "Confidence    9 non-null int64\n",
      "Effort        9 non-null int64\n",
      "dtypes: int64(4), object(1)\n",
      "memory usage: 1.6 KB\n"
     ]
    }
   ],
   "source": [
    "hypotheses.info(memory_usage='deep')"
   ]
  },
  {
   "cell_type": "code",
   "execution_count": 8,
   "metadata": {},
   "outputs": [
    {
     "data": {
      "text/html": [
       "<div>\n",
       "<style scoped>\n",
       "    .dataframe tbody tr th:only-of-type {\n",
       "        vertical-align: middle;\n",
       "    }\n",
       "\n",
       "    .dataframe tbody tr th {\n",
       "        vertical-align: top;\n",
       "    }\n",
       "\n",
       "    .dataframe thead th {\n",
       "        text-align: right;\n",
       "    }\n",
       "</style>\n",
       "<table border=\"1\" class=\"dataframe\">\n",
       "  <thead>\n",
       "    <tr style=\"text-align: right;\">\n",
       "      <th></th>\n",
       "      <th>transactionId</th>\n",
       "      <th>visitorId</th>\n",
       "      <th>date</th>\n",
       "      <th>revenue</th>\n",
       "      <th>group</th>\n",
       "    </tr>\n",
       "  </thead>\n",
       "  <tbody>\n",
       "    <tr>\n",
       "      <td>434</td>\n",
       "      <td>1215410543</td>\n",
       "      <td>3994425631</td>\n",
       "      <td>2019-08-25</td>\n",
       "      <td>25.2</td>\n",
       "      <td>B</td>\n",
       "    </tr>\n",
       "    <tr>\n",
       "      <td>677</td>\n",
       "      <td>2348589867</td>\n",
       "      <td>1294878855</td>\n",
       "      <td>2019-08-09</td>\n",
       "      <td>425.4</td>\n",
       "      <td>A</td>\n",
       "    </tr>\n",
       "    <tr>\n",
       "      <td>1017</td>\n",
       "      <td>1729012139</td>\n",
       "      <td>3613900590</td>\n",
       "      <td>2019-08-31</td>\n",
       "      <td>205.1</td>\n",
       "      <td>A</td>\n",
       "    </tr>\n",
       "    <tr>\n",
       "      <td>431</td>\n",
       "      <td>578479971</td>\n",
       "      <td>707833925</td>\n",
       "      <td>2019-08-24</td>\n",
       "      <td>275.5</td>\n",
       "      <td>B</td>\n",
       "    </tr>\n",
       "    <tr>\n",
       "      <td>696</td>\n",
       "      <td>198999602</td>\n",
       "      <td>3659263677</td>\n",
       "      <td>2019-08-09</td>\n",
       "      <td>40.8</td>\n",
       "      <td>A</td>\n",
       "    </tr>\n",
       "    <tr>\n",
       "      <td>1191</td>\n",
       "      <td>3592955527</td>\n",
       "      <td>608641596</td>\n",
       "      <td>2019-08-14</td>\n",
       "      <td>255.7</td>\n",
       "      <td>B</td>\n",
       "    </tr>\n",
       "    <tr>\n",
       "      <td>119</td>\n",
       "      <td>3769777863</td>\n",
       "      <td>2038023866</td>\n",
       "      <td>2019-08-22</td>\n",
       "      <td>70.9</td>\n",
       "      <td>B</td>\n",
       "    </tr>\n",
       "    <tr>\n",
       "      <td>215</td>\n",
       "      <td>2822064496</td>\n",
       "      <td>3294452564</td>\n",
       "      <td>2019-08-02</td>\n",
       "      <td>220.8</td>\n",
       "      <td>B</td>\n",
       "    </tr>\n",
       "    <tr>\n",
       "      <td>134</td>\n",
       "      <td>62794304</td>\n",
       "      <td>199603092</td>\n",
       "      <td>2019-08-22</td>\n",
       "      <td>110.3</td>\n",
       "      <td>A</td>\n",
       "    </tr>\n",
       "    <tr>\n",
       "      <td>1150</td>\n",
       "      <td>1722995581</td>\n",
       "      <td>2761566146</td>\n",
       "      <td>2019-08-14</td>\n",
       "      <td>25.4</td>\n",
       "      <td>A</td>\n",
       "    </tr>\n",
       "  </tbody>\n",
       "</table>\n",
       "</div>"
      ],
      "text/plain": [
       "      transactionId   visitorId       date  revenue group\n",
       "434   1215410543     3994425631 2019-08-25  25.2     B   \n",
       "677   2348589867     1294878855 2019-08-09  425.4    A   \n",
       "1017  1729012139     3613900590 2019-08-31  205.1    A   \n",
       "431   578479971      707833925  2019-08-24  275.5    B   \n",
       "696   198999602      3659263677 2019-08-09  40.8     A   \n",
       "1191  3592955527     608641596  2019-08-14  255.7    B   \n",
       "119   3769777863     2038023866 2019-08-22  70.9     B   \n",
       "215   2822064496     3294452564 2019-08-02  220.8    B   \n",
       "134   62794304       199603092  2019-08-22  110.3    A   \n",
       "1150  1722995581     2761566146 2019-08-14  25.4     A   "
      ]
     },
     "execution_count": 8,
     "metadata": {},
     "output_type": "execute_result"
    }
   ],
   "source": [
    "orders.sample(10)"
   ]
  },
  {
   "cell_type": "code",
   "execution_count": 9,
   "metadata": {},
   "outputs": [
    {
     "name": "stdout",
     "output_type": "stream",
     "text": [
      "<class 'pandas.core.frame.DataFrame'>\n",
      "RangeIndex: 1197 entries, 0 to 1196\n",
      "Data columns (total 5 columns):\n",
      "transactionId    1197 non-null int64\n",
      "visitorId        1197 non-null int64\n",
      "date             1197 non-null datetime64[ns]\n",
      "revenue          1197 non-null float64\n",
      "group            1197 non-null object\n",
      "dtypes: datetime64[ns](1), float64(1), int64(2), object(1)\n",
      "memory usage: 105.3 KB\n"
     ]
    }
   ],
   "source": [
    "orders.info(memory_usage='deep')"
   ]
  },
  {
   "cell_type": "code",
   "execution_count": 10,
   "metadata": {},
   "outputs": [
    {
     "data": {
      "text/html": [
       "<div>\n",
       "<style scoped>\n",
       "    .dataframe tbody tr th:only-of-type {\n",
       "        vertical-align: middle;\n",
       "    }\n",
       "\n",
       "    .dataframe tbody tr th {\n",
       "        vertical-align: top;\n",
       "    }\n",
       "\n",
       "    .dataframe thead th {\n",
       "        text-align: right;\n",
       "    }\n",
       "</style>\n",
       "<table border=\"1\" class=\"dataframe\">\n",
       "  <thead>\n",
       "    <tr style=\"text-align: right;\">\n",
       "      <th></th>\n",
       "      <th>date</th>\n",
       "      <th>group</th>\n",
       "      <th>visits</th>\n",
       "    </tr>\n",
       "  </thead>\n",
       "  <tbody>\n",
       "    <tr>\n",
       "      <td>0</td>\n",
       "      <td>2019-08-01</td>\n",
       "      <td>A</td>\n",
       "      <td>719</td>\n",
       "    </tr>\n",
       "    <tr>\n",
       "      <td>1</td>\n",
       "      <td>2019-08-02</td>\n",
       "      <td>A</td>\n",
       "      <td>619</td>\n",
       "    </tr>\n",
       "    <tr>\n",
       "      <td>2</td>\n",
       "      <td>2019-08-03</td>\n",
       "      <td>A</td>\n",
       "      <td>507</td>\n",
       "    </tr>\n",
       "    <tr>\n",
       "      <td>3</td>\n",
       "      <td>2019-08-04</td>\n",
       "      <td>A</td>\n",
       "      <td>717</td>\n",
       "    </tr>\n",
       "    <tr>\n",
       "      <td>4</td>\n",
       "      <td>2019-08-05</td>\n",
       "      <td>A</td>\n",
       "      <td>756</td>\n",
       "    </tr>\n",
       "  </tbody>\n",
       "</table>\n",
       "</div>"
      ],
      "text/plain": [
       "        date group  visits\n",
       "0 2019-08-01  A     719   \n",
       "1 2019-08-02  A     619   \n",
       "2 2019-08-03  A     507   \n",
       "3 2019-08-04  A     717   \n",
       "4 2019-08-05  A     756   "
      ]
     },
     "execution_count": 10,
     "metadata": {},
     "output_type": "execute_result"
    }
   ],
   "source": [
    "visits.head()"
   ]
  },
  {
   "cell_type": "code",
   "execution_count": 11,
   "metadata": {},
   "outputs": [
    {
     "name": "stdout",
     "output_type": "stream",
     "text": [
      "<class 'pandas.core.frame.DataFrame'>\n",
      "RangeIndex: 62 entries, 0 to 61\n",
      "Data columns (total 3 columns):\n",
      "date      62 non-null datetime64[ns]\n",
      "group     62 non-null object\n",
      "visits    62 non-null int64\n",
      "dtypes: datetime64[ns](1), int64(1), object(1)\n",
      "memory usage: 4.6 KB\n"
     ]
    }
   ],
   "source": [
    "visits.info(memory_usage='deep')"
   ]
  },
  {
   "cell_type": "markdown",
   "metadata": {},
   "source": [
    "## Prioritizing Hypotheses"
   ]
  },
  {
   "cell_type": "markdown",
   "metadata": {},
   "source": [
    "Let's apply the ICE framework to prioritize hypotheses:"
   ]
  },
  {
   "cell_type": "code",
   "execution_count": 12,
   "metadata": {},
   "outputs": [],
   "source": [
    "hypotheses['ICE'] = (hypotheses['Impact'] * hypotheses['Confidence']) / hypotheses['Effort']"
   ]
  },
  {
   "cell_type": "code",
   "execution_count": 13,
   "metadata": {},
   "outputs": [],
   "source": [
    "hyp_ice = hypotheses[['Hypothesis', 'ICE']]"
   ]
  },
  {
   "cell_type": "code",
   "execution_count": 14,
   "metadata": {},
   "outputs": [
    {
     "data": {
      "text/html": [
       "<div>\n",
       "<style scoped>\n",
       "    .dataframe tbody tr th:only-of-type {\n",
       "        vertical-align: middle;\n",
       "    }\n",
       "\n",
       "    .dataframe tbody tr th {\n",
       "        vertical-align: top;\n",
       "    }\n",
       "\n",
       "    .dataframe thead th {\n",
       "        text-align: right;\n",
       "    }\n",
       "</style>\n",
       "<table border=\"1\" class=\"dataframe\">\n",
       "  <thead>\n",
       "    <tr style=\"text-align: right;\">\n",
       "      <th></th>\n",
       "      <th>Hypothesis</th>\n",
       "      <th>ICE</th>\n",
       "    </tr>\n",
       "  </thead>\n",
       "  <tbody>\n",
       "    <tr>\n",
       "      <td>8</td>\n",
       "      <td>Launch a promotion that gives users discounts on their birthdays</td>\n",
       "      <td>16.200000</td>\n",
       "    </tr>\n",
       "    <tr>\n",
       "      <td>0</td>\n",
       "      <td>Add two new channels for attracting traffic. This will bring 30% more users</td>\n",
       "      <td>13.333333</td>\n",
       "    </tr>\n",
       "    <tr>\n",
       "      <td>7</td>\n",
       "      <td>Add a subscription form to all the main pages. This will help you compile a mailing list</td>\n",
       "      <td>11.200000</td>\n",
       "    </tr>\n",
       "    <tr>\n",
       "      <td>6</td>\n",
       "      <td>Show banners with current offers and sales on the main page. This will boost conversion</td>\n",
       "      <td>8.000000</td>\n",
       "    </tr>\n",
       "    <tr>\n",
       "      <td>2</td>\n",
       "      <td>Add product recommendation blocks to the store's site. This will increase conversion and average purchase size</td>\n",
       "      <td>7.000000</td>\n",
       "    </tr>\n",
       "    <tr>\n",
       "      <td>1</td>\n",
       "      <td>Launch your own delivery service. This will shorten delivery time</td>\n",
       "      <td>2.000000</td>\n",
       "    </tr>\n",
       "    <tr>\n",
       "      <td>5</td>\n",
       "      <td>Add a customer review page. This will increase the number of orders</td>\n",
       "      <td>1.333333</td>\n",
       "    </tr>\n",
       "    <tr>\n",
       "      <td>3</td>\n",
       "      <td>Change the category structure. This will increase conversion since users will find the products they want more quickly</td>\n",
       "      <td>1.125000</td>\n",
       "    </tr>\n",
       "    <tr>\n",
       "      <td>4</td>\n",
       "      <td>Change the background color on the main page. This will increase user engagement</td>\n",
       "      <td>1.000000</td>\n",
       "    </tr>\n",
       "  </tbody>\n",
       "</table>\n",
       "</div>"
      ],
      "text/plain": [
       "                                                                                                               Hypothesis  \\\n",
       "8  Launch a promotion that gives users discounts on their birthdays                                                         \n",
       "0  Add two new channels for attracting traffic. This will bring 30% more users                                              \n",
       "7  Add a subscription form to all the main pages. This will help you compile a mailing list                                 \n",
       "6  Show banners with current offers and sales on the main page. This will boost conversion                                  \n",
       "2  Add product recommendation blocks to the store's site. This will increase conversion and average purchase size           \n",
       "1  Launch your own delivery service. This will shorten delivery time                                                        \n",
       "5  Add a customer review page. This will increase the number of orders                                                      \n",
       "3  Change the category structure. This will increase conversion since users will find the products they want more quickly   \n",
       "4  Change the background color on the main page. This will increase user engagement                                         \n",
       "\n",
       "         ICE  \n",
       "8  16.200000  \n",
       "0  13.333333  \n",
       "7  11.200000  \n",
       "6  8.000000   \n",
       "2  7.000000   \n",
       "1  2.000000   \n",
       "5  1.333333   \n",
       "3  1.125000   \n",
       "4  1.000000   "
      ]
     },
     "execution_count": 14,
     "metadata": {},
     "output_type": "execute_result"
    }
   ],
   "source": [
    "hyp_ice = hyp_ice.sort_values(by='ICE', ascending=False)\n",
    "hyp_ice"
   ]
  },
  {
   "cell_type": "markdown",
   "metadata": {},
   "source": [
    "The most promisisng hyphoteses according ICE are 9, 1 and 8."
   ]
  },
  {
   "cell_type": "markdown",
   "metadata": {},
   "source": [
    "Let's apply the RICE framework to prioritize hypotheses:"
   ]
  },
  {
   "cell_type": "code",
   "execution_count": 15,
   "metadata": {},
   "outputs": [],
   "source": [
    "hypotheses['RICE'] = (hypotheses['Reach'] * hypotheses['Impact'] * hypotheses['Confidence']) / hypotheses['Effort']"
   ]
  },
  {
   "cell_type": "code",
   "execution_count": 16,
   "metadata": {},
   "outputs": [],
   "source": [
    "hyp_rice = hypotheses[['Hypothesis', 'RICE']]"
   ]
  },
  {
   "cell_type": "code",
   "execution_count": 17,
   "metadata": {},
   "outputs": [
    {
     "data": {
      "text/html": [
       "<div>\n",
       "<style scoped>\n",
       "    .dataframe tbody tr th:only-of-type {\n",
       "        vertical-align: middle;\n",
       "    }\n",
       "\n",
       "    .dataframe tbody tr th {\n",
       "        vertical-align: top;\n",
       "    }\n",
       "\n",
       "    .dataframe thead th {\n",
       "        text-align: right;\n",
       "    }\n",
       "</style>\n",
       "<table border=\"1\" class=\"dataframe\">\n",
       "  <thead>\n",
       "    <tr style=\"text-align: right;\">\n",
       "      <th></th>\n",
       "      <th>Hypothesis</th>\n",
       "      <th>RICE</th>\n",
       "    </tr>\n",
       "  </thead>\n",
       "  <tbody>\n",
       "    <tr>\n",
       "      <td>7</td>\n",
       "      <td>Add a subscription form to all the main pages. This will help you compile a mailing list</td>\n",
       "      <td>112.0</td>\n",
       "    </tr>\n",
       "    <tr>\n",
       "      <td>2</td>\n",
       "      <td>Add product recommendation blocks to the store's site. This will increase conversion and average purchase size</td>\n",
       "      <td>56.0</td>\n",
       "    </tr>\n",
       "    <tr>\n",
       "      <td>0</td>\n",
       "      <td>Add two new channels for attracting traffic. This will bring 30% more users</td>\n",
       "      <td>40.0</td>\n",
       "    </tr>\n",
       "    <tr>\n",
       "      <td>6</td>\n",
       "      <td>Show banners with current offers and sales on the main page. This will boost conversion</td>\n",
       "      <td>40.0</td>\n",
       "    </tr>\n",
       "    <tr>\n",
       "      <td>8</td>\n",
       "      <td>Launch a promotion that gives users discounts on their birthdays</td>\n",
       "      <td>16.2</td>\n",
       "    </tr>\n",
       "    <tr>\n",
       "      <td>3</td>\n",
       "      <td>Change the category structure. This will increase conversion since users will find the products they want more quickly</td>\n",
       "      <td>9.0</td>\n",
       "    </tr>\n",
       "    <tr>\n",
       "      <td>1</td>\n",
       "      <td>Launch your own delivery service. This will shorten delivery time</td>\n",
       "      <td>4.0</td>\n",
       "    </tr>\n",
       "    <tr>\n",
       "      <td>5</td>\n",
       "      <td>Add a customer review page. This will increase the number of orders</td>\n",
       "      <td>4.0</td>\n",
       "    </tr>\n",
       "    <tr>\n",
       "      <td>4</td>\n",
       "      <td>Change the background color on the main page. This will increase user engagement</td>\n",
       "      <td>3.0</td>\n",
       "    </tr>\n",
       "  </tbody>\n",
       "</table>\n",
       "</div>"
      ],
      "text/plain": [
       "                                                                                                               Hypothesis  \\\n",
       "7  Add a subscription form to all the main pages. This will help you compile a mailing list                                 \n",
       "2  Add product recommendation blocks to the store's site. This will increase conversion and average purchase size           \n",
       "0  Add two new channels for attracting traffic. This will bring 30% more users                                              \n",
       "6  Show banners with current offers and sales on the main page. This will boost conversion                                  \n",
       "8  Launch a promotion that gives users discounts on their birthdays                                                         \n",
       "3  Change the category structure. This will increase conversion since users will find the products they want more quickly   \n",
       "1  Launch your own delivery service. This will shorten delivery time                                                        \n",
       "5  Add a customer review page. This will increase the number of orders                                                      \n",
       "4  Change the background color on the main page. This will increase user engagement                                         \n",
       "\n",
       "    RICE  \n",
       "7  112.0  \n",
       "2  56.0   \n",
       "0  40.0   \n",
       "6  40.0   \n",
       "8  16.2   \n",
       "3  9.0    \n",
       "1  4.0    \n",
       "5  4.0    \n",
       "4  3.0    "
      ]
     },
     "execution_count": 17,
     "metadata": {},
     "output_type": "execute_result"
    }
   ],
   "source": [
    "hyp_rice = hyp_rice.sort_values(by='RICE', ascending=False)\n",
    "hyp_rice"
   ]
  },
  {
   "cell_type": "markdown",
   "metadata": {},
   "source": [
    "According RICE the most promising hypotheses are 8, 3, 1 and 7."
   ]
  },
  {
   "cell_type": "code",
   "execution_count": 18,
   "metadata": {
    "scrolled": true
   },
   "outputs": [
    {
     "data": {
      "text/html": [
       "<div>\n",
       "<style scoped>\n",
       "    .dataframe tbody tr th:only-of-type {\n",
       "        vertical-align: middle;\n",
       "    }\n",
       "\n",
       "    .dataframe tbody tr th {\n",
       "        vertical-align: top;\n",
       "    }\n",
       "\n",
       "    .dataframe thead th {\n",
       "        text-align: right;\n",
       "    }\n",
       "</style>\n",
       "<table border=\"1\" class=\"dataframe\">\n",
       "  <thead>\n",
       "    <tr style=\"text-align: right;\">\n",
       "      <th></th>\n",
       "      <th>Hypothesis</th>\n",
       "      <th>ICE</th>\n",
       "      <th>RICE</th>\n",
       "    </tr>\n",
       "  </thead>\n",
       "  <tbody>\n",
       "    <tr>\n",
       "      <td>0</td>\n",
       "      <td>Launch a promotion that gives users discounts on their birthdays</td>\n",
       "      <td>16.200000</td>\n",
       "      <td>16.2</td>\n",
       "    </tr>\n",
       "    <tr>\n",
       "      <td>1</td>\n",
       "      <td>Add two new channels for attracting traffic. This will bring 30% more users</td>\n",
       "      <td>13.333333</td>\n",
       "      <td>40.0</td>\n",
       "    </tr>\n",
       "    <tr>\n",
       "      <td>2</td>\n",
       "      <td>Add a subscription form to all the main pages. This will help you compile a mailing list</td>\n",
       "      <td>11.200000</td>\n",
       "      <td>112.0</td>\n",
       "    </tr>\n",
       "    <tr>\n",
       "      <td>3</td>\n",
       "      <td>Show banners with current offers and sales on the main page. This will boost conversion</td>\n",
       "      <td>8.000000</td>\n",
       "      <td>40.0</td>\n",
       "    </tr>\n",
       "    <tr>\n",
       "      <td>4</td>\n",
       "      <td>Add product recommendation blocks to the store's site. This will increase conversion and average purchase size</td>\n",
       "      <td>7.000000</td>\n",
       "      <td>56.0</td>\n",
       "    </tr>\n",
       "    <tr>\n",
       "      <td>5</td>\n",
       "      <td>Launch your own delivery service. This will shorten delivery time</td>\n",
       "      <td>2.000000</td>\n",
       "      <td>4.0</td>\n",
       "    </tr>\n",
       "    <tr>\n",
       "      <td>6</td>\n",
       "      <td>Add a customer review page. This will increase the number of orders</td>\n",
       "      <td>1.333333</td>\n",
       "      <td>4.0</td>\n",
       "    </tr>\n",
       "    <tr>\n",
       "      <td>7</td>\n",
       "      <td>Change the category structure. This will increase conversion since users will find the products they want more quickly</td>\n",
       "      <td>1.125000</td>\n",
       "      <td>9.0</td>\n",
       "    </tr>\n",
       "    <tr>\n",
       "      <td>8</td>\n",
       "      <td>Change the background color on the main page. This will increase user engagement</td>\n",
       "      <td>1.000000</td>\n",
       "      <td>3.0</td>\n",
       "    </tr>\n",
       "  </tbody>\n",
       "</table>\n",
       "</div>"
      ],
      "text/plain": [
       "                                                                                                               Hypothesis  \\\n",
       "0  Launch a promotion that gives users discounts on their birthdays                                                         \n",
       "1  Add two new channels for attracting traffic. This will bring 30% more users                                              \n",
       "2  Add a subscription form to all the main pages. This will help you compile a mailing list                                 \n",
       "3  Show banners with current offers and sales on the main page. This will boost conversion                                  \n",
       "4  Add product recommendation blocks to the store's site. This will increase conversion and average purchase size           \n",
       "5  Launch your own delivery service. This will shorten delivery time                                                        \n",
       "6  Add a customer review page. This will increase the number of orders                                                      \n",
       "7  Change the category structure. This will increase conversion since users will find the products they want more quickly   \n",
       "8  Change the background color on the main page. This will increase user engagement                                         \n",
       "\n",
       "         ICE   RICE  \n",
       "0  16.200000  16.2   \n",
       "1  13.333333  40.0   \n",
       "2  11.200000  112.0  \n",
       "3  8.000000   40.0   \n",
       "4  7.000000   56.0   \n",
       "5  2.000000   4.0    \n",
       "6  1.333333   4.0    \n",
       "7  1.125000   9.0    \n",
       "8  1.000000   3.0    "
      ]
     },
     "execution_count": 18,
     "metadata": {},
     "output_type": "execute_result"
    }
   ],
   "source": [
    "hyp_all = hyp_ice.merge(hyp_rice, how='left', on=['Hypothesis'])\n",
    "hyp_all"
   ]
  },
  {
   "cell_type": "code",
   "execution_count": 19,
   "metadata": {},
   "outputs": [
    {
     "data": {
      "image/png": "[encoded data removed]",
      "text/plain": [
       "<Figure size 720x432 with 1 Axes>"
      ]
     },
     "metadata": {
      "needs_background": "light"
     },
     "output_type": "display_data"
    }
   ],
   "source": [
    "plt.figure(figsize=(10,6))\n",
    "plt.title('Method ICE and RICE', size=15)\n",
    "sns.scatterplot(x=hyp_all['ICE'], y=hyp_all['RICE'])\n",
    "for line in range(0,hyp_all.shape[0]):\n",
    "     plt.text(hyp_all.ICE[line]+0.2, \n",
    "              hyp_all.RICE[line], \n",
    "              hyp_all.index[line], \n",
    "              horizontalalignment='left', size='medium', color='black', weight='semibold')\n",
    "plt.show()"
   ]
  },
  {
   "cell_type": "markdown",
   "metadata": {},
   "source": [
    "### Conclusion"
   ]
  },
  {
   "cell_type": "markdown",
   "metadata": {},
   "source": [
    "According to ICE and RICE frameworks I would consider to check 1 and 8 hypotheses, since both of them have a high score and appear in both frameworks. The 8 hypothesis appears the most promisisng in rICE framework because we considered also Reach parameter. Means that future changes will see the biggest amount of users. Impact on users will be pretty high and we are almost sure in results. Also it will take a medium efforts from our side. The 1 hypothesis will not reach a lot of customers but will have a high impact on them, with pretty high level of confidence and medium efforts from our side it makes this hypothesis worth to review and checking."
   ]
  },
  {
   "cell_type": "markdown",
   "metadata": {},
   "source": [
    "## A/B Test Analysis"
   ]
  },
  {
   "cell_type": "markdown",
   "metadata": {},
   "source": [
    "### Graph cumulative revenue by group. Make conclusions and conjectures."
   ]
  },
  {
   "cell_type": "markdown",
   "metadata": {},
   "source": [
    "First of all we need to be sure that we don't have dulicate values in our data."
   ]
  },
  {
   "cell_type": "code",
   "execution_count": 20,
   "metadata": {},
   "outputs": [
    {
     "name": "stdout",
     "output_type": "stream",
     "text": [
      "58\n"
     ]
    }
   ],
   "source": [
    "group_counter = orders.groupby('visitorId')['group'].nunique()\n",
    "damaged_users = group_counter[group_counter > 1].index\n",
    "print(len(damaged_users))"
   ]
  },
  {
   "cell_type": "code",
   "execution_count": 21,
   "metadata": {},
   "outputs": [],
   "source": [
    "orders = orders[orders.visitorId.isin(damaged_users) == False]\n"
   ]
  },
  {
   "cell_type": "code",
   "execution_count": 22,
   "metadata": {},
   "outputs": [],
   "source": [
    "ordersgroup = orders[['date', 'group']].drop_duplicates()"
   ]
  },
  {
   "cell_type": "code",
   "execution_count": 23,
   "metadata": {},
   "outputs": [],
   "source": [
    "ordersagg = ordersgroup.apply(\n",
    "    lambda x: orders[np.logical_and(orders['date'] <= x['date'], orders['group'] == x['group'])]\n",
    "    .agg({'date' : 'max', 'group' : 'max', 'transactionId' : pd.Series.nunique, 'visitorId' : pd.Series.nunique, 'revenue' : 'sum'}), axis=1).sort_values(by=['date','group']) \n"
   ]
  },
  {
   "cell_type": "code",
   "execution_count": 24,
   "metadata": {},
   "outputs": [],
   "source": [
    "visitsagg = visits.apply(lambda x: visits[np.logical_and(visits['date'] <= x['date'], visits['group'] == x['group'])].agg({'date' : 'max', 'group' : 'max', 'visits' : 'sum'}), axis=1).sort_values(by=['date','group']) \n"
   ]
  },
  {
   "cell_type": "code",
   "execution_count": 25,
   "metadata": {},
   "outputs": [
    {
     "data": {
      "text/html": [
       "<div>\n",
       "<style scoped>\n",
       "    .dataframe tbody tr th:only-of-type {\n",
       "        vertical-align: middle;\n",
       "    }\n",
       "\n",
       "    .dataframe tbody tr th {\n",
       "        vertical-align: top;\n",
       "    }\n",
       "\n",
       "    .dataframe thead th {\n",
       "        text-align: right;\n",
       "    }\n",
       "</style>\n",
       "<table border=\"1\" class=\"dataframe\">\n",
       "  <thead>\n",
       "    <tr style=\"text-align: right;\">\n",
       "      <th></th>\n",
       "      <th>date</th>\n",
       "      <th>group</th>\n",
       "      <th>orders</th>\n",
       "      <th>buyers</th>\n",
       "      <th>revenue</th>\n",
       "      <th>visitors</th>\n",
       "    </tr>\n",
       "  </thead>\n",
       "  <tbody>\n",
       "    <tr>\n",
       "      <td>0</td>\n",
       "      <td>2019-08-01</td>\n",
       "      <td>A</td>\n",
       "      <td>23</td>\n",
       "      <td>19</td>\n",
       "      <td>2266.6</td>\n",
       "      <td>719</td>\n",
       "    </tr>\n",
       "    <tr>\n",
       "      <td>1</td>\n",
       "      <td>2019-08-01</td>\n",
       "      <td>B</td>\n",
       "      <td>17</td>\n",
       "      <td>17</td>\n",
       "      <td>967.2</td>\n",
       "      <td>713</td>\n",
       "    </tr>\n",
       "    <tr>\n",
       "      <td>2</td>\n",
       "      <td>2019-08-02</td>\n",
       "      <td>A</td>\n",
       "      <td>42</td>\n",
       "      <td>36</td>\n",
       "      <td>3734.9</td>\n",
       "      <td>1338</td>\n",
       "    </tr>\n",
       "    <tr>\n",
       "      <td>3</td>\n",
       "      <td>2019-08-02</td>\n",
       "      <td>B</td>\n",
       "      <td>40</td>\n",
       "      <td>39</td>\n",
       "      <td>3535.3</td>\n",
       "      <td>1294</td>\n",
       "    </tr>\n",
       "    <tr>\n",
       "      <td>4</td>\n",
       "      <td>2019-08-03</td>\n",
       "      <td>A</td>\n",
       "      <td>66</td>\n",
       "      <td>60</td>\n",
       "      <td>5550.1</td>\n",
       "      <td>1845</td>\n",
       "    </tr>\n",
       "  </tbody>\n",
       "</table>\n",
       "</div>"
      ],
      "text/plain": [
       "        date group  orders  buyers  revenue  visitors\n",
       "0 2019-08-01  A     23      19      2266.6   719     \n",
       "1 2019-08-01  B     17      17      967.2    713     \n",
       "2 2019-08-02  A     42      36      3734.9   1338    \n",
       "3 2019-08-02  B     40      39      3535.3   1294    \n",
       "4 2019-08-03  A     66      60      5550.1   1845    "
      ]
     },
     "execution_count": 25,
     "metadata": {},
     "output_type": "execute_result"
    }
   ],
   "source": [
    "cumdata = ordersagg.merge(visitsagg, left_on=['date', 'group'], right_on=['date', 'group'])\n",
    "cumdata.columns = ['date', 'group', 'orders', 'buyers', 'revenue', 'visitors']\n",
    "cumdata.head()"
   ]
  },
  {
   "cell_type": "code",
   "execution_count": 26,
   "metadata": {},
   "outputs": [
    {
     "data": {
      "image/png": "[encoded data removed]",
      "text/plain": [
       "<Figure size 720x864 with 1 Axes>"
      ]
     },
     "metadata": {
      "needs_background": "light"
     },
     "output_type": "display_data"
    }
   ],
   "source": [
    "plt.figure(figsize=(10,12))\n",
    "sns.lineplot(data=cumdata, x=\"date\", y=\"revenue\", hue=\"group\")\n",
    "plt.title(\"Cumulative revenue by group\")\n",
    "plt.show()"
   ]
  },
  {
   "cell_type": "markdown",
   "metadata": {},
   "source": [
    "Revenue is rising throughout the whole test. However, revenue of B group is higher then revenue of A group and started to raise more 17-08-2019."
   ]
  },
  {
   "cell_type": "markdown",
   "metadata": {},
   "source": [
    "### Graph cumulative average order size by group. Make conclusions and conjectures."
   ]
  },
  {
   "cell_type": "code",
   "execution_count": 27,
   "metadata": {},
   "outputs": [
    {
     "data": {
      "text/html": [
       "<div>\n",
       "<style scoped>\n",
       "    .dataframe tbody tr th:only-of-type {\n",
       "        vertical-align: middle;\n",
       "    }\n",
       "\n",
       "    .dataframe tbody tr th {\n",
       "        vertical-align: top;\n",
       "    }\n",
       "\n",
       "    .dataframe thead th {\n",
       "        text-align: right;\n",
       "    }\n",
       "</style>\n",
       "<table border=\"1\" class=\"dataframe\">\n",
       "  <thead>\n",
       "    <tr style=\"text-align: right;\">\n",
       "      <th></th>\n",
       "      <th>date</th>\n",
       "      <th>group</th>\n",
       "      <th>orders</th>\n",
       "      <th>buyers</th>\n",
       "      <th>revenue</th>\n",
       "      <th>visitors</th>\n",
       "      <th>avgsize</th>\n",
       "    </tr>\n",
       "  </thead>\n",
       "  <tbody>\n",
       "    <tr>\n",
       "      <td>0</td>\n",
       "      <td>2019-08-01</td>\n",
       "      <td>A</td>\n",
       "      <td>23</td>\n",
       "      <td>19</td>\n",
       "      <td>2266.6</td>\n",
       "      <td>719</td>\n",
       "      <td>98.547826</td>\n",
       "    </tr>\n",
       "    <tr>\n",
       "      <td>1</td>\n",
       "      <td>2019-08-01</td>\n",
       "      <td>B</td>\n",
       "      <td>17</td>\n",
       "      <td>17</td>\n",
       "      <td>967.2</td>\n",
       "      <td>713</td>\n",
       "      <td>56.894118</td>\n",
       "    </tr>\n",
       "    <tr>\n",
       "      <td>2</td>\n",
       "      <td>2019-08-02</td>\n",
       "      <td>A</td>\n",
       "      <td>42</td>\n",
       "      <td>36</td>\n",
       "      <td>3734.9</td>\n",
       "      <td>1338</td>\n",
       "      <td>88.926190</td>\n",
       "    </tr>\n",
       "    <tr>\n",
       "      <td>3</td>\n",
       "      <td>2019-08-02</td>\n",
       "      <td>B</td>\n",
       "      <td>40</td>\n",
       "      <td>39</td>\n",
       "      <td>3535.3</td>\n",
       "      <td>1294</td>\n",
       "      <td>88.382500</td>\n",
       "    </tr>\n",
       "    <tr>\n",
       "      <td>4</td>\n",
       "      <td>2019-08-03</td>\n",
       "      <td>A</td>\n",
       "      <td>66</td>\n",
       "      <td>60</td>\n",
       "      <td>5550.1</td>\n",
       "      <td>1845</td>\n",
       "      <td>84.092424</td>\n",
       "    </tr>\n",
       "  </tbody>\n",
       "</table>\n",
       "</div>"
      ],
      "text/plain": [
       "        date group  orders  buyers  revenue  visitors    avgsize\n",
       "0 2019-08-01  A     23      19      2266.6   719       98.547826\n",
       "1 2019-08-01  B     17      17      967.2    713       56.894118\n",
       "2 2019-08-02  A     42      36      3734.9   1338      88.926190\n",
       "3 2019-08-02  B     40      39      3535.3   1294      88.382500\n",
       "4 2019-08-03  A     66      60      5550.1   1845      84.092424"
      ]
     },
     "execution_count": 27,
     "metadata": {},
     "output_type": "execute_result"
    }
   ],
   "source": [
    "cumdata['avgsize'] = cumdata['revenue'] / cumdata['orders']\n",
    "cumdata.head()"
   ]
  },
  {
   "cell_type": "code",
   "execution_count": 28,
   "metadata": {},
   "outputs": [
    {
     "data": {
      "image/png": "[encoded data removed]",
      "text/plain": [
       "<Figure size 720x864 with 1 Axes>"
      ]
     },
     "metadata": {
      "needs_background": "light"
     },
     "output_type": "display_data"
    }
   ],
   "source": [
    "plt.figure(figsize=(10,12))\n",
    "sns.lineplot(data=cumdata, x=\"date\", y=\"avgsize\", hue=\"group\")\n",
    "plt.title(\"Cumulative average order size by group\")\n",
    "plt.show()"
   ]
  },
  {
   "cell_type": "markdown",
   "metadata": {},
   "source": [
    "As we see group B started to raise immediately. On the 13-08-2019 it dropped down compared with group A, maybe because some users from group A bought expensive items or placed a large orders, but after the average orders size from group B started to raise dramatticaly and shows better results then group A."
   ]
  },
  {
   "cell_type": "markdown",
   "metadata": {},
   "source": [
    "### Graph the relative difference in cumulative average order size for group B compared with group A. Make conclusions and conjectures."
   ]
  },
  {
   "cell_type": "code",
   "execution_count": 29,
   "metadata": {},
   "outputs": [],
   "source": [
    "cumdataA = cumdata[cumdata['group']=='A'][['date','revenue', 'orders']]\n",
    "cumdataB = cumdata[cumdata['group']=='B'][['date','revenue', 'orders']]"
   ]
  },
  {
   "cell_type": "code",
   "execution_count": 30,
   "metadata": {},
   "outputs": [
    {
     "data": {
      "text/html": [
       "<div>\n",
       "<style scoped>\n",
       "    .dataframe tbody tr th:only-of-type {\n",
       "        vertical-align: middle;\n",
       "    }\n",
       "\n",
       "    .dataframe tbody tr th {\n",
       "        vertical-align: top;\n",
       "    }\n",
       "\n",
       "    .dataframe thead th {\n",
       "        text-align: right;\n",
       "    }\n",
       "</style>\n",
       "<table border=\"1\" class=\"dataframe\">\n",
       "  <thead>\n",
       "    <tr style=\"text-align: right;\">\n",
       "      <th></th>\n",
       "      <th>date</th>\n",
       "      <th>revenueA</th>\n",
       "      <th>ordersA</th>\n",
       "      <th>revenueB</th>\n",
       "      <th>ordersB</th>\n",
       "    </tr>\n",
       "  </thead>\n",
       "  <tbody>\n",
       "    <tr>\n",
       "      <td>0</td>\n",
       "      <td>2019-08-01</td>\n",
       "      <td>2266.6</td>\n",
       "      <td>23</td>\n",
       "      <td>967.2</td>\n",
       "      <td>17</td>\n",
       "    </tr>\n",
       "    <tr>\n",
       "      <td>1</td>\n",
       "      <td>2019-08-02</td>\n",
       "      <td>3734.9</td>\n",
       "      <td>42</td>\n",
       "      <td>3535.3</td>\n",
       "      <td>40</td>\n",
       "    </tr>\n",
       "    <tr>\n",
       "      <td>2</td>\n",
       "      <td>2019-08-03</td>\n",
       "      <td>5550.1</td>\n",
       "      <td>66</td>\n",
       "      <td>4606.9</td>\n",
       "      <td>54</td>\n",
       "    </tr>\n",
       "    <tr>\n",
       "      <td>3</td>\n",
       "      <td>2019-08-04</td>\n",
       "      <td>6225.6</td>\n",
       "      <td>77</td>\n",
       "      <td>6138.5</td>\n",
       "      <td>68</td>\n",
       "    </tr>\n",
       "    <tr>\n",
       "      <td>4</td>\n",
       "      <td>2019-08-05</td>\n",
       "      <td>7623.6</td>\n",
       "      <td>99</td>\n",
       "      <td>7587.8</td>\n",
       "      <td>89</td>\n",
       "    </tr>\n",
       "  </tbody>\n",
       "</table>\n",
       "</div>"
      ],
      "text/plain": [
       "        date  revenueA  ordersA  revenueB  ordersB\n",
       "0 2019-08-01  2266.6    23       967.2     17     \n",
       "1 2019-08-02  3734.9    42       3535.3    40     \n",
       "2 2019-08-03  5550.1    66       4606.9    54     \n",
       "3 2019-08-04  6225.6    77       6138.5    68     \n",
       "4 2019-08-05  7623.6    99       7587.8    89     "
      ]
     },
     "execution_count": 30,
     "metadata": {},
     "output_type": "execute_result"
    }
   ],
   "source": [
    "mergedcum = cumdataA.merge(cumdataB, left_on='date', right_on='date', how='left', suffixes=['A', 'B'])\n",
    "mergedcum.head()"
   ]
  },
  {
   "cell_type": "code",
   "execution_count": 31,
   "metadata": {},
   "outputs": [
    {
     "data": {
      "image/png": "[encoded data removed]",
      "text/plain": [
       "<Figure size 720x864 with 1 Axes>"
      ]
     },
     "metadata": {
      "needs_background": "light"
     },
     "output_type": "display_data"
    }
   ],
   "source": [
    "plt.figure(figsize=(10,12))\n",
    "sns.lineplot(data=cumdata, x=\"date\",y=(mergedcum['revenueB']/mergedcum['ordersB'])/(mergedcum['revenueA']/mergedcum['ordersA'])-1)\n",
    "plt.axhline(y=0, color='red', linestyle='--') \n",
    "plt.title(\"Relative difference in cumulative average order size for group B compared with group A\")\n",
    "plt.show()"
   ]
  },
  {
   "cell_type": "markdown",
   "metadata": {},
   "source": [
    "From the relative difference plot we can see that still group B showing good results axcept of two moments from the start and in the beginning of August what could be explained that in group A were expensive orders that time. But after group B average order size grew up and stays on high level"
   ]
  },
  {
   "cell_type": "markdown",
   "metadata": {},
   "source": [
    "### Calculate each group's conversion rate as the ratio of orders to the number of visits for each day. Plot the daily conversion rates of the two groups and describe the difference. Draw conclusions and make conjectures."
   ]
  },
  {
   "cell_type": "code",
   "execution_count": 32,
   "metadata": {},
   "outputs": [
    {
     "data": {
      "text/html": [
       "<div>\n",
       "<style scoped>\n",
       "    .dataframe tbody tr th:only-of-type {\n",
       "        vertical-align: middle;\n",
       "    }\n",
       "\n",
       "    .dataframe tbody tr th {\n",
       "        vertical-align: top;\n",
       "    }\n",
       "\n",
       "    .dataframe thead th {\n",
       "        text-align: right;\n",
       "    }\n",
       "</style>\n",
       "<table border=\"1\" class=\"dataframe\">\n",
       "  <thead>\n",
       "    <tr style=\"text-align: right;\">\n",
       "      <th></th>\n",
       "      <th>date</th>\n",
       "      <th>group</th>\n",
       "      <th>transactionId</th>\n",
       "      <th>visitorId</th>\n",
       "      <th>revenue</th>\n",
       "    </tr>\n",
       "  </thead>\n",
       "  <tbody>\n",
       "    <tr>\n",
       "      <td>55</td>\n",
       "      <td>2019-08-01</td>\n",
       "      <td>A</td>\n",
       "      <td>23</td>\n",
       "      <td>19</td>\n",
       "      <td>2266.6</td>\n",
       "    </tr>\n",
       "    <tr>\n",
       "      <td>66</td>\n",
       "      <td>2019-08-01</td>\n",
       "      <td>B</td>\n",
       "      <td>17</td>\n",
       "      <td>17</td>\n",
       "      <td>967.2</td>\n",
       "    </tr>\n",
       "    <tr>\n",
       "      <td>175</td>\n",
       "      <td>2019-08-02</td>\n",
       "      <td>A</td>\n",
       "      <td>42</td>\n",
       "      <td>36</td>\n",
       "      <td>3734.9</td>\n",
       "    </tr>\n",
       "    <tr>\n",
       "      <td>173</td>\n",
       "      <td>2019-08-02</td>\n",
       "      <td>B</td>\n",
       "      <td>40</td>\n",
       "      <td>39</td>\n",
       "      <td>3535.3</td>\n",
       "    </tr>\n",
       "    <tr>\n",
       "      <td>291</td>\n",
       "      <td>2019-08-03</td>\n",
       "      <td>A</td>\n",
       "      <td>66</td>\n",
       "      <td>60</td>\n",
       "      <td>5550.1</td>\n",
       "    </tr>\n",
       "  </tbody>\n",
       "</table>\n",
       "</div>"
      ],
      "text/plain": [
       "          date group  transactionId  visitorId  revenue\n",
       "55  2019-08-01  A     23             19         2266.6 \n",
       "66  2019-08-01  B     17             17         967.2  \n",
       "175 2019-08-02  A     42             36         3734.9 \n",
       "173 2019-08-02  B     40             39         3535.3 \n",
       "291 2019-08-03  A     66             60         5550.1 "
      ]
     },
     "execution_count": 32,
     "metadata": {},
     "output_type": "execute_result"
    }
   ],
   "source": [
    "ordersagg=ordersagg.sort_values(by=['date','group']) \n",
    "ordersagg.head()"
   ]
  },
  {
   "cell_type": "code",
   "execution_count": 33,
   "metadata": {},
   "outputs": [
    {
     "data": {
      "text/html": [
       "<div>\n",
       "<style scoped>\n",
       "    .dataframe tbody tr th:only-of-type {\n",
       "        vertical-align: middle;\n",
       "    }\n",
       "\n",
       "    .dataframe tbody tr th {\n",
       "        vertical-align: top;\n",
       "    }\n",
       "\n",
       "    .dataframe thead th {\n",
       "        text-align: right;\n",
       "    }\n",
       "</style>\n",
       "<table border=\"1\" class=\"dataframe\">\n",
       "  <thead>\n",
       "    <tr style=\"text-align: right;\">\n",
       "      <th></th>\n",
       "      <th>date</th>\n",
       "      <th>group</th>\n",
       "      <th>visits</th>\n",
       "    </tr>\n",
       "  </thead>\n",
       "  <tbody>\n",
       "    <tr>\n",
       "      <td>0</td>\n",
       "      <td>2019-08-01</td>\n",
       "      <td>A</td>\n",
       "      <td>719</td>\n",
       "    </tr>\n",
       "    <tr>\n",
       "      <td>31</td>\n",
       "      <td>2019-08-01</td>\n",
       "      <td>B</td>\n",
       "      <td>713</td>\n",
       "    </tr>\n",
       "    <tr>\n",
       "      <td>1</td>\n",
       "      <td>2019-08-02</td>\n",
       "      <td>A</td>\n",
       "      <td>1338</td>\n",
       "    </tr>\n",
       "    <tr>\n",
       "      <td>32</td>\n",
       "      <td>2019-08-02</td>\n",
       "      <td>B</td>\n",
       "      <td>1294</td>\n",
       "    </tr>\n",
       "    <tr>\n",
       "      <td>2</td>\n",
       "      <td>2019-08-03</td>\n",
       "      <td>A</td>\n",
       "      <td>1845</td>\n",
       "    </tr>\n",
       "  </tbody>\n",
       "</table>\n",
       "</div>"
      ],
      "text/plain": [
       "         date group  visits\n",
       "0  2019-08-01  A     719   \n",
       "31 2019-08-01  B     713   \n",
       "1  2019-08-02  A     1338  \n",
       "32 2019-08-02  B     1294  \n",
       "2  2019-08-03  A     1845  "
      ]
     },
     "execution_count": 33,
     "metadata": {},
     "output_type": "execute_result"
    }
   ],
   "source": [
    "visitsagg=visitsagg.sort_values(by=['date','group'])\n",
    "visitsagg.head()"
   ]
  },
  {
   "cell_type": "code",
   "execution_count": 34,
   "metadata": {},
   "outputs": [
    {
     "data": {
      "text/html": [
       "<div>\n",
       "<style scoped>\n",
       "    .dataframe tbody tr th:only-of-type {\n",
       "        vertical-align: middle;\n",
       "    }\n",
       "\n",
       "    .dataframe tbody tr th {\n",
       "        vertical-align: top;\n",
       "    }\n",
       "\n",
       "    .dataframe thead th {\n",
       "        text-align: right;\n",
       "    }\n",
       "</style>\n",
       "<table border=\"1\" class=\"dataframe\">\n",
       "  <thead>\n",
       "    <tr style=\"text-align: right;\">\n",
       "      <th></th>\n",
       "      <th>date</th>\n",
       "      <th>group</th>\n",
       "      <th>orders</th>\n",
       "      <th>buyers</th>\n",
       "      <th>revenue</th>\n",
       "      <th>visits</th>\n",
       "    </tr>\n",
       "  </thead>\n",
       "  <tbody>\n",
       "    <tr>\n",
       "      <td>0</td>\n",
       "      <td>2019-08-01</td>\n",
       "      <td>A</td>\n",
       "      <td>23</td>\n",
       "      <td>19</td>\n",
       "      <td>2266.6</td>\n",
       "      <td>719</td>\n",
       "    </tr>\n",
       "    <tr>\n",
       "      <td>1</td>\n",
       "      <td>2019-08-01</td>\n",
       "      <td>B</td>\n",
       "      <td>17</td>\n",
       "      <td>17</td>\n",
       "      <td>967.2</td>\n",
       "      <td>713</td>\n",
       "    </tr>\n",
       "    <tr>\n",
       "      <td>2</td>\n",
       "      <td>2019-08-02</td>\n",
       "      <td>A</td>\n",
       "      <td>42</td>\n",
       "      <td>36</td>\n",
       "      <td>3734.9</td>\n",
       "      <td>1338</td>\n",
       "    </tr>\n",
       "    <tr>\n",
       "      <td>3</td>\n",
       "      <td>2019-08-02</td>\n",
       "      <td>B</td>\n",
       "      <td>40</td>\n",
       "      <td>39</td>\n",
       "      <td>3535.3</td>\n",
       "      <td>1294</td>\n",
       "    </tr>\n",
       "    <tr>\n",
       "      <td>4</td>\n",
       "      <td>2019-08-03</td>\n",
       "      <td>A</td>\n",
       "      <td>66</td>\n",
       "      <td>60</td>\n",
       "      <td>5550.1</td>\n",
       "      <td>1845</td>\n",
       "    </tr>\n",
       "  </tbody>\n",
       "</table>\n",
       "</div>"
      ],
      "text/plain": [
       "        date group  orders  buyers  revenue  visits\n",
       "0 2019-08-01  A     23      19      2266.6   719   \n",
       "1 2019-08-01  B     17      17      967.2    713   \n",
       "2 2019-08-02  A     42      36      3734.9   1338  \n",
       "3 2019-08-02  B     40      39      3535.3   1294  \n",
       "4 2019-08-03  A     66      60      5550.1   1845  "
      ]
     },
     "execution_count": 34,
     "metadata": {},
     "output_type": "execute_result"
    }
   ],
   "source": [
    "conmerged = ordersagg.merge(\n",
    "   visitsagg, left_on=['date', 'group'], right_on=['date', 'group'])\n",
    "conmerged.columns=['date', 'group', 'orders', 'buyers', 'revenue', 'visits']\n",
    "conmerged.head()"
   ]
  },
  {
   "cell_type": "code",
   "execution_count": 35,
   "metadata": {},
   "outputs": [
    {
     "data": {
      "text/html": [
       "<div>\n",
       "<style scoped>\n",
       "    .dataframe tbody tr th:only-of-type {\n",
       "        vertical-align: middle;\n",
       "    }\n",
       "\n",
       "    .dataframe tbody tr th {\n",
       "        vertical-align: top;\n",
       "    }\n",
       "\n",
       "    .dataframe thead th {\n",
       "        text-align: right;\n",
       "    }\n",
       "</style>\n",
       "<table border=\"1\" class=\"dataframe\">\n",
       "  <thead>\n",
       "    <tr style=\"text-align: right;\">\n",
       "      <th></th>\n",
       "      <th>date</th>\n",
       "      <th>group</th>\n",
       "      <th>orders</th>\n",
       "      <th>buyers</th>\n",
       "      <th>revenue</th>\n",
       "      <th>visits</th>\n",
       "      <th>conversion_rate</th>\n",
       "    </tr>\n",
       "  </thead>\n",
       "  <tbody>\n",
       "    <tr>\n",
       "      <td>0</td>\n",
       "      <td>2019-08-01</td>\n",
       "      <td>A</td>\n",
       "      <td>23</td>\n",
       "      <td>19</td>\n",
       "      <td>2266.6</td>\n",
       "      <td>719</td>\n",
       "      <td>0.031989</td>\n",
       "    </tr>\n",
       "    <tr>\n",
       "      <td>1</td>\n",
       "      <td>2019-08-01</td>\n",
       "      <td>B</td>\n",
       "      <td>17</td>\n",
       "      <td>17</td>\n",
       "      <td>967.2</td>\n",
       "      <td>713</td>\n",
       "      <td>0.023843</td>\n",
       "    </tr>\n",
       "    <tr>\n",
       "      <td>2</td>\n",
       "      <td>2019-08-02</td>\n",
       "      <td>A</td>\n",
       "      <td>42</td>\n",
       "      <td>36</td>\n",
       "      <td>3734.9</td>\n",
       "      <td>1338</td>\n",
       "      <td>0.031390</td>\n",
       "    </tr>\n",
       "    <tr>\n",
       "      <td>3</td>\n",
       "      <td>2019-08-02</td>\n",
       "      <td>B</td>\n",
       "      <td>40</td>\n",
       "      <td>39</td>\n",
       "      <td>3535.3</td>\n",
       "      <td>1294</td>\n",
       "      <td>0.030912</td>\n",
       "    </tr>\n",
       "    <tr>\n",
       "      <td>4</td>\n",
       "      <td>2019-08-03</td>\n",
       "      <td>A</td>\n",
       "      <td>66</td>\n",
       "      <td>60</td>\n",
       "      <td>5550.1</td>\n",
       "      <td>1845</td>\n",
       "      <td>0.035772</td>\n",
       "    </tr>\n",
       "  </tbody>\n",
       "</table>\n",
       "</div>"
      ],
      "text/plain": [
       "        date group  orders  buyers  revenue  visits  conversion_rate\n",
       "0 2019-08-01  A     23      19      2266.6   719     0.031989       \n",
       "1 2019-08-01  B     17      17      967.2    713     0.023843       \n",
       "2 2019-08-02  A     42      36      3734.9   1338    0.031390       \n",
       "3 2019-08-02  B     40      39      3535.3   1294    0.030912       \n",
       "4 2019-08-03  A     66      60      5550.1   1845    0.035772       "
      ]
     },
     "execution_count": 35,
     "metadata": {},
     "output_type": "execute_result"
    }
   ],
   "source": [
    "conmerged['conversion_rate']=conmerged['orders']/conmerged['visits']\n",
    "conmerged.head()"
   ]
  },
  {
   "cell_type": "code",
   "execution_count": 36,
   "metadata": {},
   "outputs": [
    {
     "data": {
      "image/png": "[encoded data removed]",
      "text/plain": [
       "<Figure size 1296x720 with 1 Axes>"
      ]
     },
     "metadata": {
      "needs_background": "light"
     },
     "output_type": "display_data"
    }
   ],
   "source": [
    "plt.figure(figsize=(18,10))\n",
    "sns.lineplot(data=conmerged, x=\"date\", y=\"conversion_rate\", hue=\"group\")\n",
    "plt.title(\"Daily conversion rates of the two groups\")\n",
    "plt.show()"
   ]
  },
  {
   "cell_type": "code",
   "execution_count": 37,
   "metadata": {},
   "outputs": [
    {
     "data": {
      "text/html": [
       "<div>\n",
       "<style scoped>\n",
       "    .dataframe tbody tr th:only-of-type {\n",
       "        vertical-align: middle;\n",
       "    }\n",
       "\n",
       "    .dataframe tbody tr th {\n",
       "        vertical-align: top;\n",
       "    }\n",
       "\n",
       "    .dataframe thead th {\n",
       "        text-align: right;\n",
       "    }\n",
       "</style>\n",
       "<table border=\"1\" class=\"dataframe\">\n",
       "  <thead>\n",
       "    <tr style=\"text-align: right;\">\n",
       "      <th></th>\n",
       "      <th>orders</th>\n",
       "      <th>buyers</th>\n",
       "      <th>revenue</th>\n",
       "      <th>visits</th>\n",
       "      <th>conversion_rate</th>\n",
       "    </tr>\n",
       "    <tr>\n",
       "      <th>group</th>\n",
       "      <th></th>\n",
       "      <th></th>\n",
       "      <th></th>\n",
       "      <th></th>\n",
       "      <th></th>\n",
       "    </tr>\n",
       "  </thead>\n",
       "  <tbody>\n",
       "    <tr>\n",
       "      <td>A</td>\n",
       "      <td>7904</td>\n",
       "      <td>7469</td>\n",
       "      <td>840331.0</td>\n",
       "      <td>305673</td>\n",
       "      <td>0.832994</td>\n",
       "    </tr>\n",
       "    <tr>\n",
       "      <td>B</td>\n",
       "      <td>9038</td>\n",
       "      <td>8782</td>\n",
       "      <td>1216292.8</td>\n",
       "      <td>307092</td>\n",
       "      <td>0.907756</td>\n",
       "    </tr>\n",
       "  </tbody>\n",
       "</table>\n",
       "</div>"
      ],
      "text/plain": [
       "       orders  buyers    revenue  visits  conversion_rate\n",
       "group                                                    \n",
       "A      7904    7469    840331.0   305673  0.832994       \n",
       "B      9038    8782    1216292.8  307092  0.907756       "
      ]
     },
     "execution_count": 37,
     "metadata": {},
     "output_type": "execute_result"
    }
   ],
   "source": [
    "# overoll conversion:\n",
    "overcon = conmerged.groupby(by='group').sum()\n",
    "overcon"
   ]
  },
  {
   "cell_type": "markdown",
   "metadata": {},
   "source": [
    "We can see that conversion rate for B group started grow dramatically from the beginning and remains higher than conversion rate of A group"
   ]
  },
  {
   "cell_type": "markdown",
   "metadata": {},
   "source": [
    "### Plot a scatter chart of the number of orders per user. Make conclusions and conjectures."
   ]
  },
  {
   "cell_type": "code",
   "execution_count": 38,
   "metadata": {},
   "outputs": [
    {
     "name": "stdout",
     "output_type": "stream",
     "text": [
      "         userId  orders\n",
      "908  3967698036  3     \n",
      "55   249864742   3     \n",
      "478  2108163459  3     \n",
      "687  2988190573  3     \n",
      "890  3908431265  3     \n",
      "138  611059232   3     \n",
      "632  2742574263  3     \n",
      "157  678354126   2     \n",
      "323  1404560065  2     \n",
      "452  1985475298  2     \n"
     ]
    }
   ],
   "source": [
    "ordersByUsers = (\n",
    "    orders.drop(['group', 'revenue', 'date'], axis=1)\n",
    "    .groupby('visitorId', as_index=False)\n",
    "    .agg({'transactionId': pd.Series.nunique})\n",
    ")\n",
    "ordersByUsers.columns = ['userId', 'orders']\n",
    "\n",
    "print(ordersByUsers.sort_values(by='orders', ascending=False).head(10))"
   ]
  },
  {
   "cell_type": "code",
   "execution_count": 39,
   "metadata": {},
   "outputs": [
    {
     "data": {
      "image/png": "[encoded data removed]",
      "text/plain": [
       "<Figure size 1152x648 with 1 Axes>"
      ]
     },
     "metadata": {
      "needs_background": "light"
     },
     "output_type": "display_data"
    }
   ],
   "source": [
    "plt.figure(figsize = (16,9))\n",
    "kwargs  =   {'edgecolor':\"w\",\n",
    "             'linewidth':2,\n",
    "             'linestyle':':',\n",
    "            }\n",
    "sns.scatterplot(x = \"userId\", y = \"orders\", data = ordersByUsers, sizes = (200, 500), **kwargs)\n",
    "plt.title(\"Scatter chart of the number of orders per user\")\n",
    "plt.show()"
   ]
  },
  {
   "cell_type": "markdown",
   "metadata": {},
   "source": [
    "The majority of users placed only 1 order, but we have some users who made more then 1 order as we see on scatterplot."
   ]
  },
  {
   "cell_type": "markdown",
   "metadata": {},
   "source": [
    "### Calculate the 95th and 99th percentiles for the number of orders per user. Define the point at which a data point becomes an anomaly.\n"
   ]
  },
  {
   "cell_type": "code",
   "execution_count": 40,
   "metadata": {},
   "outputs": [
    {
     "name": "stdout",
     "output_type": "stream",
     "text": [
      "[1. 1. 2.]\n"
     ]
    }
   ],
   "source": [
    "print(np.percentile(ordersByUsers['orders'], [90, 95, 99])) "
   ]
  },
  {
   "cell_type": "markdown",
   "metadata": {},
   "source": [
    "95th and 99th percentiles for the number of orders per user are: 2 and 4 accordingly. On the scatterplot we saw a lot of users who made 2 orders, and only some made 4 and more. So data becomes anomaly if user placed more then 2 orders."
   ]
  },
  {
   "cell_type": "markdown",
   "metadata": {},
   "source": [
    "### Plot a scatter chart of order prices. Make conclusions and conjectures."
   ]
  },
  {
   "cell_type": "code",
   "execution_count": 41,
   "metadata": {},
   "outputs": [
    {
     "data": {
      "image/png": "[encoded data removed]",
      "text/plain": [
       "<Figure size 432x288 with 1 Axes>"
      ]
     },
     "metadata": {
      "needs_background": "light"
     },
     "output_type": "display_data"
    }
   ],
   "source": [
    "x_values = pd.Series(range(0, len(orders['revenue'])))\n",
    "plt.scatter(x_values, orders['revenue']) \n",
    "plt.ylim(0, 1000)\n",
    "plt.title(\"Scatter chart of order prices\")\n",
    "plt.show()"
   ]
  },
  {
   "cell_type": "markdown",
   "metadata": {},
   "source": [
    "The majority of orders cost not more then 2500USD, but we have some orders which cost more, even 20000USD"
   ]
  },
  {
   "cell_type": "markdown",
   "metadata": {},
   "source": [
    "### Calculate the 95th and 99th percentiles of order prices. Define the point at which a data point becomes an anomaly."
   ]
  },
  {
   "cell_type": "code",
   "execution_count": 42,
   "metadata": {},
   "outputs": [
    {
     "name": "stdout",
     "output_type": "stream",
     "text": [
      "[280.8   414.275 830.3  ]\n"
     ]
    }
   ],
   "source": [
    "print(np.percentile(orders['revenue'], [90, 95, 99])) "
   ]
  },
  {
   "cell_type": "markdown",
   "metadata": {},
   "source": [
    "No more than 5% of orders cost more than 435.54USD, and no more than 1% cost more than 900.904USD. We can consider, that all orders which cost more then 435USD become an anomaly."
   ]
  },
  {
   "cell_type": "markdown",
   "metadata": {},
   "source": [
    "### Find the statistical significance of the difference in conversion between the groups using the raw data. Make conclusions and conjectures."
   ]
  },
  {
   "cell_type": "code",
   "execution_count": 43,
   "metadata": {},
   "outputs": [
    {
     "data": {
      "text/html": [
       "<div>\n",
       "<style scoped>\n",
       "    .dataframe tbody tr th:only-of-type {\n",
       "        vertical-align: middle;\n",
       "    }\n",
       "\n",
       "    .dataframe tbody tr th {\n",
       "        vertical-align: top;\n",
       "    }\n",
       "\n",
       "    .dataframe thead th {\n",
       "        text-align: right;\n",
       "    }\n",
       "</style>\n",
       "<table border=\"1\" class=\"dataframe\">\n",
       "  <thead>\n",
       "    <tr style=\"text-align: right;\">\n",
       "      <th></th>\n",
       "      <th>userId</th>\n",
       "      <th>orders</th>\n",
       "    </tr>\n",
       "  </thead>\n",
       "  <tbody>\n",
       "    <tr>\n",
       "      <td>337</td>\n",
       "      <td>3160828523</td>\n",
       "      <td>1</td>\n",
       "    </tr>\n",
       "    <tr>\n",
       "      <td>43</td>\n",
       "      <td>417213830</td>\n",
       "      <td>1</td>\n",
       "    </tr>\n",
       "    <tr>\n",
       "      <td>335</td>\n",
       "      <td>3149228032</td>\n",
       "      <td>1</td>\n",
       "    </tr>\n",
       "    <tr>\n",
       "      <td>387</td>\n",
       "      <td>3622537133</td>\n",
       "      <td>1</td>\n",
       "    </tr>\n",
       "    <tr>\n",
       "      <td>104</td>\n",
       "      <td>997945223</td>\n",
       "      <td>1</td>\n",
       "    </tr>\n",
       "  </tbody>\n",
       "</table>\n",
       "</div>"
      ],
      "text/plain": [
       "         userId  orders\n",
       "337  3160828523  1     \n",
       "43   417213830   1     \n",
       "335  3149228032  1     \n",
       "387  3622537133  1     \n",
       "104  997945223   1     "
      ]
     },
     "execution_count": 43,
     "metadata": {},
     "output_type": "execute_result"
    }
   ],
   "source": [
    "ordersByUsersA = orders[orders['group']=='A'].groupby('visitorId', as_index=False).agg({'transactionId' : pd.Series.nunique})\n",
    "ordersByUsersA.columns = ['userId', 'orders']\n",
    "ordersByUsersA.sample(5)"
   ]
  },
  {
   "cell_type": "code",
   "execution_count": 44,
   "metadata": {},
   "outputs": [
    {
     "data": {
      "text/html": [
       "<div>\n",
       "<style scoped>\n",
       "    .dataframe tbody tr th:only-of-type {\n",
       "        vertical-align: middle;\n",
       "    }\n",
       "\n",
       "    .dataframe tbody tr th {\n",
       "        vertical-align: top;\n",
       "    }\n",
       "\n",
       "    .dataframe thead th {\n",
       "        text-align: right;\n",
       "    }\n",
       "</style>\n",
       "<table border=\"1\" class=\"dataframe\">\n",
       "  <thead>\n",
       "    <tr style=\"text-align: right;\">\n",
       "      <th></th>\n",
       "      <th>userId</th>\n",
       "      <th>orders</th>\n",
       "    </tr>\n",
       "  </thead>\n",
       "  <tbody>\n",
       "    <tr>\n",
       "      <td>525</td>\n",
       "      <td>4279090005</td>\n",
       "      <td>1</td>\n",
       "    </tr>\n",
       "    <tr>\n",
       "      <td>301</td>\n",
       "      <td>2396134342</td>\n",
       "      <td>1</td>\n",
       "    </tr>\n",
       "    <tr>\n",
       "      <td>343</td>\n",
       "      <td>2696039803</td>\n",
       "      <td>1</td>\n",
       "    </tr>\n",
       "    <tr>\n",
       "      <td>110</td>\n",
       "      <td>856264494</td>\n",
       "      <td>1</td>\n",
       "    </tr>\n",
       "    <tr>\n",
       "      <td>47</td>\n",
       "      <td>368204224</td>\n",
       "      <td>1</td>\n",
       "    </tr>\n",
       "  </tbody>\n",
       "</table>\n",
       "</div>"
      ],
      "text/plain": [
       "         userId  orders\n",
       "525  4279090005  1     \n",
       "301  2396134342  1     \n",
       "343  2696039803  1     \n",
       "110  856264494   1     \n",
       "47   368204224   1     "
      ]
     },
     "execution_count": 44,
     "metadata": {},
     "output_type": "execute_result"
    }
   ],
   "source": [
    "ordersByUsersB = orders[orders['group']=='B'].groupby('visitorId', as_index=False).agg({'transactionId' : pd.Series.nunique})\n",
    "ordersByUsersB.columns = ['userId', 'orders']\n",
    "ordersByUsersB.sample(5)"
   ]
  },
  {
   "cell_type": "code",
   "execution_count": 45,
   "metadata": {},
   "outputs": [
    {
     "data": {
      "text/plain": [
       "0    1\n",
       "1    1\n",
       "2    1\n",
       "3    1\n",
       "4    1\n",
       "Name: orders, dtype: int64"
      ]
     },
     "execution_count": 45,
     "metadata": {},
     "output_type": "execute_result"
    }
   ],
   "source": [
    "sampleA = pd.concat([ordersByUsersA['orders'],pd.Series(0, index=np.arange(visits[visits['group']=='A']['visits'].sum() - len(ordersByUsersA['orders'])), name='orders')],axis=0)\n",
    "sampleA.head()"
   ]
  },
  {
   "cell_type": "code",
   "execution_count": 46,
   "metadata": {},
   "outputs": [
    {
     "data": {
      "text/plain": [
       "0    1\n",
       "1    1\n",
       "2    1\n",
       "3    1\n",
       "4    1\n",
       "Name: orders, dtype: int64"
      ]
     },
     "execution_count": 46,
     "metadata": {},
     "output_type": "execute_result"
    }
   ],
   "source": [
    "sampleB = pd.concat([ordersByUsersB['orders'],pd.Series(0, index=np.arange(visits[visits['group']=='B']['visits'].sum() - len(ordersByUsersB['orders'])), name='orders')],axis=0)\n",
    "sampleB.head()"
   ]
  },
  {
   "cell_type": "markdown",
   "metadata": {},
   "source": [
    "Let's set up the significant level as 0.05. And formulate hypotheses. \n",
    "Null hypothesis: The groups' conversion rates have no statistically significant differences.\n",
    "Alternative hypothesis: The groups' conversion rates have statistically significant differences."
   ]
  },
  {
   "cell_type": "code",
   "execution_count": 47,
   "metadata": {},
   "outputs": [],
   "source": [
    "alpha = 0.05"
   ]
  },
  {
   "cell_type": "code",
   "execution_count": 48,
   "metadata": {},
   "outputs": [
    {
     "name": "stdout",
     "output_type": "stream",
     "text": [
      "0.011\n",
      "0.160\n"
     ]
    }
   ],
   "source": [
    "results = st.mannwhitneyu(sampleA, sampleB, alternative='two-sided')\n",
    "print( \"{0:.3f}\".format(results.pvalue))\n",
    "print(\"{0:.3f}\".format(sampleB.mean()/sampleA.mean()-1)) "
   ]
  },
  {
   "cell_type": "markdown",
   "metadata": {},
   "source": [
    "The p-value is considerably lower than 0.05, so we reject the null hypothesis. The raw data analysis shows us that the groups' conversion rates have statistically significant differences. The relative conversion gain for group B compared with group A is 13.8%"
   ]
  },
  {
   "cell_type": "markdown",
   "metadata": {},
   "source": [
    "### Find the statistical significance of the difference in average order size between the groups using the raw data. Make conclusions and conjectures."
   ]
  },
  {
   "cell_type": "markdown",
   "metadata": {},
   "source": [
    "Null hypothesis: The groups' average order size have no statistically significant differences.\n",
    "Alternative hypothesis: The groups' average order size have statistically significant differences."
   ]
  },
  {
   "cell_type": "code",
   "execution_count": 50,
   "metadata": {},
   "outputs": [
    {
     "name": "stdout",
     "output_type": "stream",
     "text": [
      "0.431\n",
      "0.278\n"
     ]
    }
   ],
   "source": [
    "print('{0:.3f}'.format(st.mannwhitneyu(orders[orders['group']=='A']['revenue'], orders[orders['group']=='B']['revenue'])[1], alternative='two-sided'))\n",
    "print('{0:.3f}'.format(orders[orders['group']=='B']['revenue'].mean()/orders[orders['group']=='A']['revenue'].mean()-1)) "
   ]
  },
  {
   "cell_type": "markdown",
   "metadata": {},
   "source": [
    "The p-value is considerably higher than 0.05, so there's no reason to reject the null hypothesis and conclude that average order size differs between the groups. And the relative difference is 25.2%"
   ]
  },
  {
   "cell_type": "markdown",
   "metadata": {},
   "source": [
    "### Find the statistical significance of the difference in conversion between the groups using the filtered data. Make conclusions and conjectures."
   ]
  },
  {
   "cell_type": "markdown",
   "metadata": {},
   "source": [
    "First of all we need to remove anomalies from our data."
   ]
  },
  {
   "cell_type": "code",
   "execution_count": 51,
   "metadata": {},
   "outputs": [
    {
     "data": {
      "text/plain": [
       "(70,)"
      ]
     },
     "execution_count": 51,
     "metadata": {},
     "output_type": "execute_result"
    }
   ],
   "source": [
    "usersWithManyOrders = pd.concat([ordersByUsersA[ordersByUsersA['orders'] > np.percentile(ordersByUsers['orders'], [95, 99])[0]]['userId'], ordersByUsersB[ordersByUsersB['orders'] > 2]['userId']], axis = 0)\n",
    "usersWithExpensiveOrders = orders[orders['revenue'] > np.percentile(orders['revenue'], [95, 99][0])]['visitorId']\n",
    "abnormalUsers = pd.concat([usersWithManyOrders, usersWithExpensiveOrders], axis = 0).drop_duplicates().sort_values()\n",
    "abnormalUsers.shape"
   ]
  },
  {
   "cell_type": "markdown",
   "metadata": {},
   "source": [
    "We have total 74 anomalies in data."
   ]
  },
  {
   "cell_type": "code",
   "execution_count": 52,
   "metadata": {},
   "outputs": [
    {
     "data": {
      "text/plain": [
       "0    1\n",
       "1    1\n",
       "2    1\n",
       "3    1\n",
       "4    1\n",
       "Name: orders, dtype: int64"
      ]
     },
     "execution_count": 52,
     "metadata": {},
     "output_type": "execute_result"
    }
   ],
   "source": [
    "sampleAFiltered = pd.concat([ordersByUsersA[np.logical_not(ordersByUsersA['userId'].isin(abnormalUsers))]['orders'],pd.Series(0, index=np.arange(visits[visits['group']=='A']['visits'].sum() - len(ordersByUsersA['orders'])),name='orders')],axis=0)\n",
    "sampleAFiltered.head()"
   ]
  },
  {
   "cell_type": "code",
   "execution_count": 53,
   "metadata": {},
   "outputs": [
    {
     "data": {
      "text/plain": [
       "0    1\n",
       "1    1\n",
       "2    1\n",
       "3    1\n",
       "4    1\n",
       "Name: orders, dtype: int64"
      ]
     },
     "execution_count": 53,
     "metadata": {},
     "output_type": "execute_result"
    }
   ],
   "source": [
    "sampleBFiltered = pd.concat([ordersByUsersB[np.logical_not(ordersByUsersB['userId'].isin(abnormalUsers))]['orders'],pd.Series(0, index=np.arange(visits[visits['group']=='B']['visits'].sum() - len(ordersByUsersB['orders'])),name='orders')],axis=0)\n",
    "sampleBFiltered.head()"
   ]
  },
  {
   "cell_type": "markdown",
   "metadata": {},
   "source": [
    "Let's set up the significant level as 0.05. And formulate hypotheses. \n",
    "Null hypothesis: The groups' conversion rates have no statistically significant differences.\n",
    "Alternative hypothesis: The groups' conversion rates have statistically significant differences."
   ]
  },
  {
   "cell_type": "code",
   "execution_count": 54,
   "metadata": {},
   "outputs": [
    {
     "name": "stdout",
     "output_type": "stream",
     "text": [
      "0.003\n",
      "0.251\n"
     ]
    }
   ],
   "source": [
    "print(\"{0:.3f}\".format(st.mannwhitneyu(sampleAFiltered, sampleBFiltered, alternative='two-sided')[1]))\n",
    "print(\"{0:.3f}\".format(sampleBFiltered.mean()/sampleAFiltered.mean()-1)) "
   ]
  },
  {
   "cell_type": "markdown",
   "metadata": {},
   "source": [
    "The p-value is considerably lower than 0.05, so we reject the null hypothesis. The filtered data analysis shows us that the groups' conversion rates have statistically significant differences. The relative conversion gain for group B compared with group A is 17.3%"
   ]
  },
  {
   "cell_type": "markdown",
   "metadata": {},
   "source": [
    "### Find the statistical significance of the difference in average order size between the groups using the filtered data. Make conclusions and conjectures."
   ]
  },
  {
   "cell_type": "code",
   "execution_count": 55,
   "metadata": {},
   "outputs": [
    {
     "name": "stdout",
     "output_type": "stream",
     "text": [
      "0.418\n",
      "-0.037\n"
     ]
    }
   ],
   "source": [
    "print('{0:.3f}'.format(st.mannwhitneyu(\n",
    "    orders[np.logical_and(\n",
    "        orders['group']=='A',\n",
    "        np.logical_not(orders['visitorId'].isin(abnormalUsers)))]['revenue'],\n",
    "    orders[np.logical_and(\n",
    "        orders['group']=='B',\n",
    "        np.logical_not(orders['visitorId'].isin(abnormalUsers)))]['revenue'])[1], alternative='two-sided'))\n",
    "\n",
    "print('{0:.3f}'.format(\n",
    "    orders[np.logical_and(orders['group']=='B',np.logical_not(orders['visitorId'].isin(abnormalUsers)))]['revenue'].mean()/\n",
    "    orders[np.logical_and(\n",
    "        orders['group']=='A',\n",
    "        np.logical_not(orders['visitorId'].isin(abnormalUsers)))]['revenue'].mean() - 1)) "
   ]
  },
  {
   "cell_type": "markdown",
   "metadata": {},
   "source": [
    "The p-value increased,and still we can't reject null hypothesis and can consider that there are no statistically significant differences in averagre order size between the groups. \n"
   ]
  },
  {
   "cell_type": "markdown",
   "metadata": {},
   "source": [
    "### Make a decision based on the test results. The possible decisions are: 1. Stop the test, consider one of the groups the leader. 2. Stop the test, conclude that there is no difference between the groups. 3. Continue the test."
   ]
  },
  {
   "cell_type": "markdown",
   "metadata": {},
   "source": [
    "After reviewing the test results I would stop the test, consider the group B is the leader. All graphes and parameters we exlored during the test shows us that group B brings us more revenue and conversion rate compared with group A."
   ]
  },
  {
   "cell_type": "markdown",
   "metadata": {},
   "source": [
    "# Overall conclusion"
   ]
  },
  {
   "cell_type": "markdown",
   "metadata": {},
   "source": [
    "We have 3 datasets. First one with hypotheses has 9 rows and 5 columns. Second with orders has 1197 rows and 5 columns, and last one with visits has 62 and 3 columns. Upon dowloading datasets I converted columns with dates to datetime type. So after I received optimized datasets for further work. After checking there were no missing values or mistakes in data. So it is ready to work with. I checked a removed duplicates in order table in order to not have same users in different groups. \n",
    "According to ICE and RICE frameworks I would consider to check 1 and 8 hypotheses, since both of them have a high score and appear in both frameworks. The 8 hypothesis appears the most promisisng in rICE framework because we considered also Reach parameter. Means that future changes will see the biggest amount of users. Impact on users will be pretty high and we are almost sure in results. Also it will take a medium efforts from our side. The 1 hypothesis will not reach a lot of customers but will have a high impact on them, with pretty high level of confidence and medium efforts from our side it makes this hypothesis worth to review and checking.\n",
    "Revenue is rising throughout the whole test. However, revenue of B group is higher then revenue of A group and started to raise more 17-08-2019.\n",
    " Group B started to raise immediately. On the 13-08-2019 it dropped down compared with group A, maybe because some users from group A bought expensive items or placed a large orders, but after the average orders size from group B started to raise dramatticaly and shows better results then group A.\n",
    " From the relative difference plot we can see that still group B showing good results axcept of two moments from the start and in the beginning of August what could be explained that in group A were expensive orders that time. But after group B average order size grew up and stays on high level.\n",
    " We can see that conversion rate for both A and B groups are almost the same. Even if in group B we have more orders and visits.\n",
    " The majority of users placed only 1 order, but we have some users who made more then 1 order as we see on scatterplot. 95th and 99th percentiles for the number of orders per user are: 2 and 4 accordingly. On the scatterplot we saw a lot of users who made 2 orders, and only some made 4 and more. So data becomes anomaly if user placed more then 2 orders.\n",
    " The majority of orders cost not more then 2500USD, but we have some orders which cost more, even 20000USD. No more than 5% of orders cost more than 435.54USD, and no more than 1% cost more than 900.904USD. We can consider, that all orders which cost more then 435USD become an anomaly.\n",
    " The raw data analysis shows us that the groups' conversion rates have statistically significant differences. The relative conversion gain for group B compared with group A is 13.8%\n",
    " \n",
    " "
   ]
  },
  {
   "cell_type": "code",
   "execution_count": null,
   "metadata": {},
   "outputs": [],
   "source": []
  }
 ],
 "metadata": {
  "ExecuteTimeLog": [
   {
    "duration": 3,
    "start_time": "2022-01-20T21:24:38.205Z"
   },
   {
    "duration": 1181,
    "start_time": "2022-01-20T21:25:43.283Z"
   },
   {
    "duration": 18,
    "start_time": "2022-01-20T21:29:44.474Z"
   },
   {
    "duration": 11,
    "start_time": "2022-01-20T21:29:58.004Z"
   },
   {
    "duration": 7,
    "start_time": "2022-01-20T21:30:23.133Z"
   },
   {
    "duration": 8,
    "start_time": "2022-01-20T21:30:35.184Z"
   },
   {
    "duration": 7,
    "start_time": "2022-01-20T21:31:01.213Z"
   },
   {
    "duration": 84,
    "start_time": "2022-01-20T21:31:57.994Z"
   },
   {
    "duration": 16,
    "start_time": "2022-01-20T21:32:45.415Z"
   },
   {
    "duration": 9,
    "start_time": "2022-01-20T21:32:57.923Z"
   },
   {
    "duration": 6,
    "start_time": "2022-01-20T21:33:29.534Z"
   },
   {
    "duration": 9,
    "start_time": "2022-01-20T21:33:39.158Z"
   },
   {
    "duration": 56,
    "start_time": "2022-01-20T21:33:49.761Z"
   },
   {
    "duration": 13,
    "start_time": "2022-01-20T21:33:58.383Z"
   },
   {
    "duration": 9,
    "start_time": "2022-01-20T21:34:09.902Z"
   },
   {
    "duration": 10,
    "start_time": "2022-01-20T21:34:15.404Z"
   },
   {
    "duration": 8,
    "start_time": "2022-01-20T21:34:43.654Z"
   },
   {
    "duration": 82,
    "start_time": "2022-01-20T21:36:01.704Z"
   },
   {
    "duration": 3,
    "start_time": "2022-01-20T21:36:34.353Z"
   },
   {
    "duration": 64,
    "start_time": "2022-01-20T21:36:41.583Z"
   },
   {
    "duration": 45,
    "start_time": "2022-01-20T21:36:54.494Z"
   },
   {
    "duration": 17,
    "start_time": "2022-01-20T21:36:56.654Z"
   },
   {
    "duration": 47,
    "start_time": "2022-01-20T21:36:58.894Z"
   },
   {
    "duration": 17,
    "start_time": "2022-01-20T21:37:00.635Z"
   },
   {
    "duration": 9,
    "start_time": "2022-01-20T21:37:01.264Z"
   },
   {
    "duration": 8,
    "start_time": "2022-01-20T21:37:06.994Z"
   },
   {
    "duration": 9,
    "start_time": "2022-01-20T21:37:08.374Z"
   },
   {
    "duration": 70,
    "start_time": "2022-01-20T21:37:10.654Z"
   },
   {
    "duration": 83,
    "start_time": "2022-01-20T21:37:27.372Z"
   },
   {
    "duration": 39,
    "start_time": "2022-01-20T21:39:32.574Z"
   },
   {
    "duration": 37,
    "start_time": "2022-01-20T21:39:58.783Z"
   },
   {
    "duration": 1518,
    "start_time": "2022-01-20T21:40:00.843Z"
   },
   {
    "duration": 47,
    "start_time": "2022-01-20T21:40:35.824Z"
   },
   {
    "duration": 8,
    "start_time": "2022-01-20T21:40:39.684Z"
   },
   {
    "duration": 6,
    "start_time": "2022-01-20T21:40:45.585Z"
   },
   {
    "duration": 10,
    "start_time": "2022-01-20T21:40:49.822Z"
   },
   {
    "duration": 6,
    "start_time": "2022-01-20T21:41:08.673Z"
   },
   {
    "duration": 8,
    "start_time": "2022-01-20T21:41:26.624Z"
   },
   {
    "duration": 7,
    "start_time": "2022-01-20T21:41:49.063Z"
   },
   {
    "duration": 3,
    "start_time": "2022-01-20T21:43:14.734Z"
   },
   {
    "duration": 6318,
    "start_time": "2022-01-20T21:46:33.202Z"
   },
   {
    "duration": 5,
    "start_time": "2022-01-20T21:47:20.273Z"
   },
   {
    "duration": 4,
    "start_time": "2022-01-20T21:48:24.273Z"
   },
   {
    "duration": 8,
    "start_time": "2022-01-20T21:48:55.883Z"
   },
   {
    "duration": 4,
    "start_time": "2022-01-20T21:52:07.932Z"
   },
   {
    "duration": 8,
    "start_time": "2022-01-20T21:52:34.252Z"
   },
   {
    "duration": 5,
    "start_time": "2022-01-20T21:53:07.262Z"
   },
   {
    "duration": 186,
    "start_time": "2022-01-20T21:53:21.211Z"
   },
   {
    "duration": 4,
    "start_time": "2022-01-20T21:53:43.322Z"
   },
   {
    "duration": 4,
    "start_time": "2022-01-20T21:53:45.721Z"
   },
   {
    "duration": 174,
    "start_time": "2022-01-20T21:53:48.018Z"
   },
   {
    "duration": 8,
    "start_time": "2022-01-20T21:54:06.432Z"
   },
   {
    "duration": 8,
    "start_time": "2022-01-20T21:54:28.794Z"
   },
   {
    "duration": 9,
    "start_time": "2022-01-20T21:54:41.084Z"
   },
   {
    "duration": 9,
    "start_time": "2022-01-20T21:54:49.114Z"
   },
   {
    "duration": 4,
    "start_time": "2022-01-20T21:54:56.254Z"
   },
   {
    "duration": 4,
    "start_time": "2022-01-21T08:21:45.557Z"
   },
   {
    "duration": 1467,
    "start_time": "2022-01-21T08:21:45.564Z"
   },
   {
    "duration": 19,
    "start_time": "2022-01-21T08:21:47.034Z"
   },
   {
    "duration": 49,
    "start_time": "2022-01-21T08:21:47.056Z"
   },
   {
    "duration": 19,
    "start_time": "2022-01-21T08:21:47.107Z"
   },
   {
    "duration": 26,
    "start_time": "2022-01-21T08:21:47.128Z"
   },
   {
    "duration": 19,
    "start_time": "2022-01-21T08:21:47.157Z"
   },
   {
    "duration": 16,
    "start_time": "2022-01-21T08:21:47.178Z"
   },
   {
    "duration": 10,
    "start_time": "2022-01-21T08:21:47.198Z"
   },
   {
    "duration": 22,
    "start_time": "2022-01-21T08:21:47.211Z"
   },
   {
    "duration": 27,
    "start_time": "2022-01-21T08:21:47.236Z"
   },
   {
    "duration": 6,
    "start_time": "2022-01-21T08:21:47.266Z"
   },
   {
    "duration": 5,
    "start_time": "2022-01-21T08:21:47.274Z"
   },
   {
    "duration": 11,
    "start_time": "2022-01-21T08:21:47.282Z"
   },
   {
    "duration": 6,
    "start_time": "2022-01-21T08:21:47.296Z"
   },
   {
    "duration": 8,
    "start_time": "2022-01-21T08:21:47.304Z"
   },
   {
    "duration": 12,
    "start_time": "2022-01-21T08:21:47.360Z"
   },
   {
    "duration": 9,
    "start_time": "2022-01-21T08:35:45.222Z"
   },
   {
    "duration": 16,
    "start_time": "2022-01-21T08:36:01.034Z"
   },
   {
    "duration": 8,
    "start_time": "2022-01-21T08:36:10.158Z"
   },
   {
    "duration": 8,
    "start_time": "2022-01-21T08:36:22.886Z"
   },
   {
    "duration": 125,
    "start_time": "2022-01-21T08:39:10.298Z"
   },
   {
    "duration": 10079,
    "start_time": "2022-01-21T08:39:41.058Z"
   },
   {
    "duration": 352,
    "start_time": "2022-01-21T08:40:43.988Z"
   },
   {
    "duration": 266,
    "start_time": "2022-01-21T08:42:18.558Z"
   },
   {
    "duration": 20,
    "start_time": "2022-01-21T08:43:47.136Z"
   },
   {
    "duration": 10,
    "start_time": "2022-01-21T08:45:11.256Z"
   },
   {
    "duration": 385,
    "start_time": "2022-01-21T08:47:28.430Z"
   },
   {
    "duration": 586,
    "start_time": "2022-01-21T08:48:37.101Z"
   },
   {
    "duration": 570,
    "start_time": "2022-01-21T08:48:51.329Z"
   },
   {
    "duration": 16,
    "start_time": "2022-01-21T08:55:40.870Z"
   },
   {
    "duration": 510,
    "start_time": "2022-01-21T08:56:05.276Z"
   },
   {
    "duration": 13,
    "start_time": "2022-01-21T09:05:00.216Z"
   },
   {
    "duration": 348,
    "start_time": "2022-01-21T09:05:01.877Z"
   },
   {
    "duration": 10832,
    "start_time": "2022-01-21T09:05:03.106Z"
   },
   {
    "duration": 8,
    "start_time": "2022-01-21T09:06:25.106Z"
   },
   {
    "duration": 366,
    "start_time": "2022-01-21T09:06:26.366Z"
   },
   {
    "duration": 9980,
    "start_time": "2022-01-21T09:06:27.496Z"
   },
   {
    "duration": 12,
    "start_time": "2022-01-21T09:06:44.666Z"
   },
   {
    "duration": 356,
    "start_time": "2022-01-21T09:06:46.756Z"
   },
   {
    "duration": 9,
    "start_time": "2022-01-21T09:07:17.046Z"
   },
   {
    "duration": 388,
    "start_time": "2022-01-21T09:07:18.457Z"
   },
   {
    "duration": 10660,
    "start_time": "2022-01-21T09:07:23.116Z"
   },
   {
    "duration": 12,
    "start_time": "2022-01-21T09:08:20.766Z"
   },
   {
    "duration": 466,
    "start_time": "2022-01-21T09:08:34.186Z"
   },
   {
    "duration": 11133,
    "start_time": "2022-01-21T09:08:35.717Z"
   },
   {
    "duration": 3,
    "start_time": "2022-01-21T09:09:12.057Z"
   },
   {
    "duration": 8,
    "start_time": "2022-01-21T09:09:12.063Z"
   },
   {
    "duration": 20,
    "start_time": "2022-01-21T09:09:12.074Z"
   },
   {
    "duration": 42,
    "start_time": "2022-01-21T09:09:12.097Z"
   },
   {
    "duration": 19,
    "start_time": "2022-01-21T09:09:12.141Z"
   },
   {
    "duration": 10,
    "start_time": "2022-01-21T09:09:12.163Z"
   },
   {
    "duration": 9,
    "start_time": "2022-01-21T09:09:12.176Z"
   },
   {
    "duration": 15,
    "start_time": "2022-01-21T09:09:12.187Z"
   },
   {
    "duration": 10,
    "start_time": "2022-01-21T09:09:12.206Z"
   },
   {
    "duration": 43,
    "start_time": "2022-01-21T09:09:12.219Z"
   },
   {
    "duration": 9,
    "start_time": "2022-01-21T09:09:12.265Z"
   },
   {
    "duration": 5,
    "start_time": "2022-01-21T09:09:12.277Z"
   },
   {
    "duration": 6,
    "start_time": "2022-01-21T09:09:12.284Z"
   },
   {
    "duration": 13,
    "start_time": "2022-01-21T09:09:12.292Z"
   },
   {
    "duration": 8,
    "start_time": "2022-01-21T09:09:12.307Z"
   },
   {
    "duration": 47,
    "start_time": "2022-01-21T09:09:12.317Z"
   },
   {
    "duration": 14,
    "start_time": "2022-01-21T09:09:12.366Z"
   },
   {
    "duration": 13,
    "start_time": "2022-01-21T09:09:12.382Z"
   },
   {
    "duration": 393,
    "start_time": "2022-01-21T09:09:12.397Z"
   },
   {
    "duration": 299,
    "start_time": "2022-01-21T09:09:12.792Z"
   },
   {
    "duration": 19,
    "start_time": "2022-01-21T09:09:13.093Z"
   },
   {
    "duration": 771,
    "start_time": "2022-01-21T09:09:13.115Z"
   },
   {
    "duration": 17,
    "start_time": "2022-01-21T09:09:13.889Z"
   },
   {
    "duration": 603,
    "start_time": "2022-01-21T09:09:13.908Z"
   },
   {
    "duration": 457,
    "start_time": "2022-01-21T09:22:45.207Z"
   },
   {
    "duration": 543,
    "start_time": "2022-01-21T09:23:06.257Z"
   },
   {
    "duration": 513,
    "start_time": "2022-01-21T09:24:04.175Z"
   },
   {
    "duration": 366,
    "start_time": "2022-01-21T09:24:57.982Z"
   },
   {
    "duration": 392,
    "start_time": "2022-01-21T09:25:14.638Z"
   },
   {
    "duration": 389,
    "start_time": "2022-01-21T09:25:24.036Z"
   },
   {
    "duration": 12,
    "start_time": "2022-01-21T09:28:12.797Z"
   },
   {
    "duration": 19,
    "start_time": "2022-01-21T09:28:59.077Z"
   },
   {
    "duration": 1138,
    "start_time": "2022-01-21T09:31:55.247Z"
   },
   {
    "duration": 1529,
    "start_time": "2022-01-21T09:47:12.843Z"
   },
   {
    "duration": 22,
    "start_time": "2022-01-21T09:47:40.619Z"
   },
   {
    "duration": 22,
    "start_time": "2022-01-21T09:47:52.169Z"
   },
   {
    "duration": 19,
    "start_time": "2022-01-21T09:48:18.969Z"
   },
   {
    "duration": 367,
    "start_time": "2022-01-21T09:49:38.203Z"
   },
   {
    "duration": 21,
    "start_time": "2022-01-21T09:51:26.259Z"
   },
   {
    "duration": 23,
    "start_time": "2022-01-21T09:51:47.038Z"
   },
   {
    "duration": 19,
    "start_time": "2022-01-21T09:52:00.628Z"
   },
   {
    "duration": 24,
    "start_time": "2022-01-21T09:52:27.609Z"
   },
   {
    "duration": 362,
    "start_time": "2022-01-21T09:53:32.008Z"
   },
   {
    "duration": 15,
    "start_time": "2022-01-21T09:53:47.619Z"
   },
   {
    "duration": 19,
    "start_time": "2022-01-21T09:54:00.949Z"
   },
   {
    "duration": 14,
    "start_time": "2022-01-21T09:54:06.329Z"
   },
   {
    "duration": 15,
    "start_time": "2022-01-21T09:54:29.258Z"
   },
   {
    "duration": 15,
    "start_time": "2022-01-21T09:55:29.288Z"
   },
   {
    "duration": 24,
    "start_time": "2022-01-21T09:55:42.678Z"
   },
   {
    "duration": 183,
    "start_time": "2022-01-21T10:03:03.400Z"
   },
   {
    "duration": 117,
    "start_time": "2022-01-21T10:03:30.549Z"
   },
   {
    "duration": 119,
    "start_time": "2022-01-21T10:06:21.929Z"
   },
   {
    "duration": 10,
    "start_time": "2022-01-21T10:09:01.369Z"
   },
   {
    "duration": 21,
    "start_time": "2022-01-21T10:09:10.399Z"
   },
   {
    "duration": 14,
    "start_time": "2022-01-21T10:09:31.275Z"
   },
   {
    "duration": 11,
    "start_time": "2022-01-21T10:10:09.953Z"
   },
   {
    "duration": 17,
    "start_time": "2022-01-21T10:11:45.595Z"
   },
   {
    "duration": 10083,
    "start_time": "2022-01-21T10:12:40.734Z"
   },
   {
    "duration": 17988,
    "start_time": "2022-01-21T10:13:59.875Z"
   },
   {
    "duration": 14220,
    "start_time": "2022-01-21T10:14:51.506Z"
   },
   {
    "duration": 11,
    "start_time": "2022-01-21T10:16:28.446Z"
   },
   {
    "duration": 25,
    "start_time": "2022-01-21T10:16:42.556Z"
   },
   {
    "duration": 24,
    "start_time": "2022-01-21T10:17:01.486Z"
   },
   {
    "duration": 20,
    "start_time": "2022-01-21T10:17:16.146Z"
   },
   {
    "duration": 11,
    "start_time": "2022-01-21T10:18:09.109Z"
   },
   {
    "duration": 541,
    "start_time": "2022-01-21T10:18:23.699Z"
   },
   {
    "duration": 21,
    "start_time": "2022-01-21T10:18:36.688Z"
   },
   {
    "duration": 2041,
    "start_time": "2022-01-21T10:20:10.767Z"
   },
   {
    "duration": 688,
    "start_time": "2022-01-21T10:20:24.927Z"
   },
   {
    "duration": 393,
    "start_time": "2022-01-21T10:20:43.157Z"
   },
   {
    "duration": 403,
    "start_time": "2022-01-21T10:21:51.028Z"
   },
   {
    "duration": 17,
    "start_time": "2022-01-21T10:23:47.787Z"
   },
   {
    "duration": 24,
    "start_time": "2022-01-21T10:24:02.827Z"
   },
   {
    "duration": 802,
    "start_time": "2022-01-21T10:25:38.064Z"
   },
   {
    "duration": 15,
    "start_time": "2022-01-21T10:25:46.444Z"
   },
   {
    "duration": 16,
    "start_time": "2022-01-21T10:27:00.104Z"
   },
   {
    "duration": 440,
    "start_time": "2022-01-21T10:27:10.723Z"
   },
   {
    "duration": 26,
    "start_time": "2022-01-21T10:27:44.624Z"
   },
   {
    "duration": 18,
    "start_time": "2022-01-21T10:27:47.924Z"
   },
   {
    "duration": 569,
    "start_time": "2022-01-21T10:27:51.705Z"
   },
   {
    "duration": 721,
    "start_time": "2022-01-21T10:28:49.927Z"
   },
   {
    "duration": 128,
    "start_time": "2022-01-21T10:33:24.338Z"
   },
   {
    "duration": 15,
    "start_time": "2022-01-21T10:34:17.240Z"
   },
   {
    "duration": 148,
    "start_time": "2022-01-21T10:40:26.771Z"
   },
   {
    "duration": 144,
    "start_time": "2022-01-21T10:42:49.778Z"
   },
   {
    "duration": 22,
    "start_time": "2022-01-21T10:45:13.409Z"
   },
   {
    "duration": 19,
    "start_time": "2022-01-21T10:45:24.880Z"
   },
   {
    "duration": 18,
    "start_time": "2022-01-21T10:46:07.950Z"
   },
   {
    "duration": 14,
    "start_time": "2022-01-21T10:47:15.710Z"
   },
   {
    "duration": 16,
    "start_time": "2022-01-21T10:47:31.720Z"
   },
   {
    "duration": 494,
    "start_time": "2022-01-21T10:48:16.528Z"
   },
   {
    "duration": 15,
    "start_time": "2022-01-21T10:48:40.680Z"
   },
   {
    "duration": 15,
    "start_time": "2022-01-21T10:49:09.151Z"
   },
   {
    "duration": 456,
    "start_time": "2022-01-21T10:50:10.081Z"
   },
   {
    "duration": 243,
    "start_time": "2022-01-21T10:50:25.231Z"
   },
   {
    "duration": 229,
    "start_time": "2022-01-21T10:53:26.491Z"
   },
   {
    "duration": 402,
    "start_time": "2022-01-21T10:56:41.621Z"
   },
   {
    "duration": 7,
    "start_time": "2022-01-21T11:01:18.526Z"
   },
   {
    "duration": 149,
    "start_time": "2022-01-21T11:02:21.732Z"
   },
   {
    "duration": 118,
    "start_time": "2022-01-21T11:02:41.268Z"
   },
   {
    "duration": 196,
    "start_time": "2022-01-21T11:02:50.257Z"
   },
   {
    "duration": 7,
    "start_time": "2022-01-21T11:02:55.848Z"
   },
   {
    "duration": 9,
    "start_time": "2022-01-21T11:18:53.754Z"
   },
   {
    "duration": 366,
    "start_time": "2022-01-21T11:18:54.724Z"
   },
   {
    "duration": 279,
    "start_time": "2022-01-21T11:18:56.124Z"
   },
   {
    "duration": 20,
    "start_time": "2022-01-21T11:18:57.214Z"
   },
   {
    "duration": 824,
    "start_time": "2022-01-21T11:18:58.725Z"
   },
   {
    "duration": 17,
    "start_time": "2022-01-21T11:19:05.014Z"
   },
   {
    "duration": 706,
    "start_time": "2022-01-21T11:19:06.934Z"
   },
   {
    "duration": 16,
    "start_time": "2022-01-21T11:19:10.854Z"
   },
   {
    "duration": 31,
    "start_time": "2022-01-21T11:19:11.844Z"
   },
   {
    "duration": 1788,
    "start_time": "2022-01-21T11:19:12.922Z"
   },
   {
    "duration": 35,
    "start_time": "2022-01-21T11:19:17.885Z"
   },
   {
    "duration": 31,
    "start_time": "2022-01-21T11:19:18.964Z"
   },
   {
    "duration": 24,
    "start_time": "2022-01-21T11:19:20.234Z"
   },
   {
    "duration": 38,
    "start_time": "2022-01-21T11:19:21.334Z"
   },
   {
    "duration": 20,
    "start_time": "2022-01-21T11:19:22.282Z"
   },
   {
    "duration": 753,
    "start_time": "2022-01-21T11:19:23.294Z"
   },
   {
    "duration": 15,
    "start_time": "2022-01-21T11:19:25.572Z"
   },
   {
    "duration": 424,
    "start_time": "2022-01-21T11:22:35.574Z"
   },
   {
    "duration": 376,
    "start_time": "2022-01-21T11:27:10.153Z"
   },
   {
    "duration": 390,
    "start_time": "2022-01-21T11:27:24.274Z"
   },
   {
    "duration": 134,
    "start_time": "2022-01-21T11:31:28.634Z"
   },
   {
    "duration": 116,
    "start_time": "2022-01-21T11:31:59.744Z"
   },
   {
    "duration": 120,
    "start_time": "2022-01-21T11:32:48.068Z"
   },
   {
    "duration": 9576,
    "start_time": "2022-01-21T11:33:55.268Z"
   },
   {
    "duration": 243,
    "start_time": "2022-01-21T11:34:15.468Z"
   },
   {
    "duration": 625,
    "start_time": "2022-01-21T11:36:55.657Z"
   },
   {
    "duration": 690,
    "start_time": "2022-01-21T11:37:14.217Z"
   },
   {
    "duration": 7,
    "start_time": "2022-01-21T11:37:54.088Z"
   },
   {
    "duration": 7,
    "start_time": "2022-01-21T11:38:06.986Z"
   },
   {
    "duration": 205,
    "start_time": "2022-01-21T11:38:26.010Z"
   },
   {
    "duration": 608,
    "start_time": "2022-01-21T11:38:27.297Z"
   },
   {
    "duration": 9,
    "start_time": "2022-01-21T11:38:31.061Z"
   },
   {
    "duration": 6,
    "start_time": "2022-01-21T11:39:01.906Z"
   },
   {
    "duration": 400,
    "start_time": "2022-01-21T11:42:11.178Z"
   },
   {
    "duration": 8,
    "start_time": "2022-01-21T11:44:51.641Z"
   },
   {
    "duration": 118,
    "start_time": "2022-01-21T11:49:41.013Z"
   },
   {
    "duration": 130,
    "start_time": "2022-01-21T11:49:50.191Z"
   },
   {
    "duration": 123,
    "start_time": "2022-01-21T11:50:04.409Z"
   },
   {
    "duration": 111,
    "start_time": "2022-01-21T11:50:15.651Z"
   },
   {
    "duration": 121,
    "start_time": "2022-01-21T11:50:27.060Z"
   },
   {
    "duration": 151,
    "start_time": "2022-01-21T11:50:50.590Z"
   },
   {
    "duration": 363,
    "start_time": "2022-01-21T11:52:12.279Z"
   },
   {
    "duration": 8,
    "start_time": "2022-01-21T11:54:30.250Z"
   },
   {
    "duration": 12,
    "start_time": "2022-01-21T11:54:36.442Z"
   },
   {
    "duration": 11,
    "start_time": "2022-01-21T11:54:47.062Z"
   },
   {
    "duration": 10,
    "start_time": "2022-01-21T11:55:43.583Z"
   },
   {
    "duration": 3,
    "start_time": "2022-01-21T11:57:59.152Z"
   },
   {
    "duration": 3,
    "start_time": "2022-01-21T11:58:03.043Z"
   },
   {
    "duration": 365,
    "start_time": "2022-01-21T12:01:11.073Z"
   },
   {
    "duration": 7,
    "start_time": "2022-01-21T12:01:36.623Z"
   },
   {
    "duration": 9,
    "start_time": "2022-01-21T12:02:39.472Z"
   },
   {
    "duration": 15,
    "start_time": "2022-01-21T12:10:41.712Z"
   },
   {
    "duration": 10180,
    "start_time": "2022-01-21T12:16:27.463Z"
   },
   {
    "duration": 14,
    "start_time": "2022-01-21T12:17:41.217Z"
   },
   {
    "duration": 16,
    "start_time": "2022-01-21T12:18:27.816Z"
   },
   {
    "duration": 15,
    "start_time": "2022-01-21T12:18:32.326Z"
   },
   {
    "duration": 523,
    "start_time": "2022-01-21T12:19:21.197Z"
   },
   {
    "duration": 23,
    "start_time": "2022-01-21T12:19:27.449Z"
   },
   {
    "duration": 23,
    "start_time": "2022-01-21T12:19:37.928Z"
   },
   {
    "duration": 13,
    "start_time": "2022-01-21T12:21:19.109Z"
   },
   {
    "duration": 13,
    "start_time": "2022-01-21T12:21:32.703Z"
   },
   {
    "duration": 13,
    "start_time": "2022-01-21T12:21:37.104Z"
   },
   {
    "duration": 13,
    "start_time": "2022-01-21T12:22:28.616Z"
   },
   {
    "duration": 10,
    "start_time": "2022-01-21T12:24:00.877Z"
   },
   {
    "duration": 21,
    "start_time": "2022-01-21T12:27:45.768Z"
   },
   {
    "duration": 4,
    "start_time": "2022-01-21T20:49:53.086Z"
   },
   {
    "duration": 1453,
    "start_time": "2022-01-21T20:49:53.093Z"
   },
   {
    "duration": 18,
    "start_time": "2022-01-21T20:49:54.548Z"
   },
   {
    "duration": 47,
    "start_time": "2022-01-21T20:49:54.569Z"
   },
   {
    "duration": 16,
    "start_time": "2022-01-21T20:49:54.620Z"
   },
   {
    "duration": 19,
    "start_time": "2022-01-21T20:49:54.639Z"
   },
   {
    "duration": 8,
    "start_time": "2022-01-21T20:49:54.661Z"
   },
   {
    "duration": 15,
    "start_time": "2022-01-21T20:49:54.671Z"
   },
   {
    "duration": 11,
    "start_time": "2022-01-21T20:49:54.688Z"
   },
   {
    "duration": 12,
    "start_time": "2022-01-21T20:49:54.701Z"
   },
   {
    "duration": 8,
    "start_time": "2022-01-21T20:49:54.715Z"
   },
   {
    "duration": 44,
    "start_time": "2022-01-21T20:49:54.725Z"
   },
   {
    "duration": 5,
    "start_time": "2022-01-21T20:49:54.772Z"
   },
   {
    "duration": 12,
    "start_time": "2022-01-21T20:49:54.782Z"
   },
   {
    "duration": 6,
    "start_time": "2022-01-21T20:49:54.798Z"
   },
   {
    "duration": 9,
    "start_time": "2022-01-21T20:49:54.806Z"
   },
   {
    "duration": 15,
    "start_time": "2022-01-21T20:49:54.817Z"
   },
   {
    "duration": 8,
    "start_time": "2022-01-21T20:49:54.870Z"
   },
   {
    "duration": 367,
    "start_time": "2022-01-21T20:49:54.881Z"
   },
   {
    "duration": 562,
    "start_time": "2022-01-21T20:49:55.250Z"
   },
   {
    "duration": -381,
    "start_time": "2022-01-21T20:49:56.196Z"
   },
   {
    "duration": -382,
    "start_time": "2022-01-21T20:49:56.198Z"
   },
   {
    "duration": -401,
    "start_time": "2022-01-21T20:49:56.219Z"
   },
   {
    "duration": -402,
    "start_time": "2022-01-21T20:49:56.221Z"
   },
   {
    "duration": -404,
    "start_time": "2022-01-21T20:49:56.224Z"
   },
   {
    "duration": -408,
    "start_time": "2022-01-21T20:49:56.230Z"
   },
   {
    "duration": -410,
    "start_time": "2022-01-21T20:49:56.233Z"
   },
   {
    "duration": -411,
    "start_time": "2022-01-21T20:49:56.235Z"
   },
   {
    "duration": -412,
    "start_time": "2022-01-21T20:49:56.238Z"
   },
   {
    "duration": -414,
    "start_time": "2022-01-21T20:49:56.241Z"
   },
   {
    "duration": -417,
    "start_time": "2022-01-21T20:49:56.246Z"
   },
   {
    "duration": -419,
    "start_time": "2022-01-21T20:49:56.249Z"
   },
   {
    "duration": -420,
    "start_time": "2022-01-21T20:49:56.252Z"
   },
   {
    "duration": -421,
    "start_time": "2022-01-21T20:49:56.254Z"
   },
   {
    "duration": -423,
    "start_time": "2022-01-21T20:49:56.258Z"
   },
   {
    "duration": -427,
    "start_time": "2022-01-21T20:49:56.263Z"
   },
   {
    "duration": -428,
    "start_time": "2022-01-21T20:49:56.266Z"
   },
   {
    "duration": -430,
    "start_time": "2022-01-21T20:49:56.269Z"
   },
   {
    "duration": -431,
    "start_time": "2022-01-21T20:49:56.272Z"
   },
   {
    "duration": -436,
    "start_time": "2022-01-21T20:49:56.278Z"
   },
   {
    "duration": -436,
    "start_time": "2022-01-21T20:49:56.280Z"
   },
   {
    "duration": -438,
    "start_time": "2022-01-21T20:49:56.283Z"
   },
   {
    "duration": -440,
    "start_time": "2022-01-21T20:49:56.286Z"
   },
   {
    "duration": -441,
    "start_time": "2022-01-21T20:49:56.289Z"
   },
   {
    "duration": -446,
    "start_time": "2022-01-21T20:49:56.295Z"
   },
   {
    "duration": -447,
    "start_time": "2022-01-21T20:49:56.298Z"
   },
   {
    "duration": -431,
    "start_time": "2022-01-21T20:49:56.300Z"
   },
   {
    "duration": -432,
    "start_time": "2022-01-21T20:49:56.303Z"
   },
   {
    "duration": -433,
    "start_time": "2022-01-21T20:49:56.305Z"
   },
   {
    "duration": -437,
    "start_time": "2022-01-21T20:49:56.311Z"
   },
   {
    "duration": -439,
    "start_time": "2022-01-21T20:49:56.314Z"
   },
   {
    "duration": 121,
    "start_time": "2022-01-21T20:52:37.003Z"
   },
   {
    "duration": 1016,
    "start_time": "2022-01-21T21:10:03.368Z"
   },
   {
    "duration": 455,
    "start_time": "2022-01-21T21:10:12.211Z"
   },
   {
    "duration": 940,
    "start_time": "2022-01-21T21:10:39.749Z"
   },
   {
    "duration": 85,
    "start_time": "2022-01-21T21:57:09.286Z"
   },
   {
    "duration": 5,
    "start_time": "2022-01-22T08:15:25.165Z"
   },
   {
    "duration": 1294,
    "start_time": "2022-01-22T08:15:25.172Z"
   },
   {
    "duration": 18,
    "start_time": "2022-01-22T08:15:26.468Z"
   },
   {
    "duration": 42,
    "start_time": "2022-01-22T08:15:26.488Z"
   },
   {
    "duration": 17,
    "start_time": "2022-01-22T08:15:26.532Z"
   },
   {
    "duration": 15,
    "start_time": "2022-01-22T08:15:26.551Z"
   },
   {
    "duration": 9,
    "start_time": "2022-01-22T08:15:26.568Z"
   },
   {
    "duration": 19,
    "start_time": "2022-01-22T08:15:26.579Z"
   },
   {
    "duration": 8,
    "start_time": "2022-01-22T08:15:26.602Z"
   },
   {
    "duration": 8,
    "start_time": "2022-01-22T08:15:26.612Z"
   },
   {
    "duration": 8,
    "start_time": "2022-01-22T08:15:26.622Z"
   },
   {
    "duration": 8,
    "start_time": "2022-01-22T08:15:26.632Z"
   },
   {
    "duration": 6,
    "start_time": "2022-01-22T08:15:26.641Z"
   },
   {
    "duration": 21,
    "start_time": "2022-01-22T08:15:26.649Z"
   },
   {
    "duration": 25,
    "start_time": "2022-01-22T08:15:26.672Z"
   },
   {
    "duration": 8,
    "start_time": "2022-01-22T08:15:26.699Z"
   },
   {
    "duration": 12,
    "start_time": "2022-01-22T08:15:26.709Z"
   },
   {
    "duration": 8,
    "start_time": "2022-01-22T08:15:26.722Z"
   },
   {
    "duration": 226,
    "start_time": "2022-01-22T08:15:26.731Z"
   },
   {
    "duration": 60,
    "start_time": "2022-01-22T08:15:26.958Z"
   },
   {
    "duration": -170,
    "start_time": "2022-01-22T08:15:27.191Z"
   },
   {
    "duration": -176,
    "start_time": "2022-01-22T08:15:27.198Z"
   },
   {
    "duration": -178,
    "start_time": "2022-01-22T08:15:27.201Z"
   },
   {
    "duration": -179,
    "start_time": "2022-01-22T08:15:27.203Z"
   },
   {
    "duration": -180,
    "start_time": "2022-01-22T08:15:27.205Z"
   },
   {
    "duration": -183,
    "start_time": "2022-01-22T08:15:27.209Z"
   },
   {
    "duration": -186,
    "start_time": "2022-01-22T08:15:27.213Z"
   },
   {
    "duration": -188,
    "start_time": "2022-01-22T08:15:27.216Z"
   },
   {
    "duration": -196,
    "start_time": "2022-01-22T08:15:27.225Z"
   },
   {
    "duration": -200,
    "start_time": "2022-01-22T08:15:27.230Z"
   },
   {
    "duration": -222,
    "start_time": "2022-01-22T08:15:27.252Z"
   },
   {
    "duration": -225,
    "start_time": "2022-01-22T08:15:27.256Z"
   },
   {
    "duration": -236,
    "start_time": "2022-01-22T08:15:27.268Z"
   },
   {
    "duration": -239,
    "start_time": "2022-01-22T08:15:27.272Z"
   },
   {
    "duration": -239,
    "start_time": "2022-01-22T08:15:27.274Z"
   },
   {
    "duration": -240,
    "start_time": "2022-01-22T08:15:27.276Z"
   },
   {
    "duration": -242,
    "start_time": "2022-01-22T08:15:27.278Z"
   },
   {
    "duration": -244,
    "start_time": "2022-01-22T08:15:27.282Z"
   },
   {
    "duration": -245,
    "start_time": "2022-01-22T08:15:27.284Z"
   },
   {
    "duration": -248,
    "start_time": "2022-01-22T08:15:27.287Z"
   },
   {
    "duration": -249,
    "start_time": "2022-01-22T08:15:27.289Z"
   },
   {
    "duration": -250,
    "start_time": "2022-01-22T08:15:27.291Z"
   },
   {
    "duration": -256,
    "start_time": "2022-01-22T08:15:27.299Z"
   },
   {
    "duration": -258,
    "start_time": "2022-01-22T08:15:27.302Z"
   },
   {
    "duration": -259,
    "start_time": "2022-01-22T08:15:27.304Z"
   },
   {
    "duration": -262,
    "start_time": "2022-01-22T08:15:27.307Z"
   },
   {
    "duration": -263,
    "start_time": "2022-01-22T08:15:27.309Z"
   },
   {
    "duration": -265,
    "start_time": "2022-01-22T08:15:27.312Z"
   },
   {
    "duration": -267,
    "start_time": "2022-01-22T08:15:27.315Z"
   },
   {
    "duration": -270,
    "start_time": "2022-01-22T08:15:27.319Z"
   },
   {
    "duration": -272,
    "start_time": "2022-01-22T08:15:27.322Z"
   },
   {
    "duration": 59,
    "start_time": "2022-01-22T08:16:51.823Z"
   },
   {
    "duration": 141,
    "start_time": "2022-01-22T08:17:21.003Z"
   },
   {
    "duration": 56,
    "start_time": "2022-01-22T08:21:04.844Z"
   },
   {
    "duration": 73,
    "start_time": "2022-01-22T08:21:12.874Z"
   },
   {
    "duration": 150,
    "start_time": "2022-01-22T08:22:19.214Z"
   },
   {
    "duration": 59,
    "start_time": "2022-01-22T08:23:10.454Z"
   },
   {
    "duration": 3,
    "start_time": "2022-01-22T08:24:17.644Z"
   },
   {
    "duration": 17,
    "start_time": "2022-01-22T08:24:20.082Z"
   },
   {
    "duration": 38,
    "start_time": "2022-01-22T08:24:21.124Z"
   },
   {
    "duration": 17,
    "start_time": "2022-01-22T08:24:21.973Z"
   },
   {
    "duration": 8,
    "start_time": "2022-01-22T08:24:24.324Z"
   },
   {
    "duration": 6,
    "start_time": "2022-01-22T08:24:41.111Z"
   },
   {
    "duration": 10,
    "start_time": "2022-01-22T08:24:42.433Z"
   },
   {
    "duration": 8,
    "start_time": "2022-01-22T08:24:49.014Z"
   },
   {
    "duration": 9,
    "start_time": "2022-01-22T08:24:50.033Z"
   },
   {
    "duration": 7,
    "start_time": "2022-01-22T08:24:52.043Z"
   },
   {
    "duration": 283,
    "start_time": "2022-01-22T08:27:21.022Z"
   },
   {
    "duration": 389,
    "start_time": "2022-01-22T08:27:47.592Z"
   },
   {
    "duration": 177,
    "start_time": "2022-01-22T08:28:59.241Z"
   },
   {
    "duration": 4,
    "start_time": "2022-01-22T08:29:16.064Z"
   },
   {
    "duration": 4,
    "start_time": "2022-01-22T08:29:16.873Z"
   },
   {
    "duration": 9,
    "start_time": "2022-01-22T08:29:17.604Z"
   },
   {
    "duration": 5,
    "start_time": "2022-01-22T08:29:20.723Z"
   },
   {
    "duration": 6,
    "start_time": "2022-01-22T08:29:22.733Z"
   },
   {
    "duration": 9,
    "start_time": "2022-01-22T08:29:23.587Z"
   },
   {
    "duration": 184,
    "start_time": "2022-01-22T08:29:28.152Z"
   },
   {
    "duration": 12,
    "start_time": "2022-01-22T08:29:43.034Z"
   },
   {
    "duration": 364,
    "start_time": "2022-01-22T08:30:54.374Z"
   },
   {
    "duration": 4,
    "start_time": "2022-01-22T08:31:35.035Z"
   },
   {
    "duration": 1209,
    "start_time": "2022-01-22T08:31:35.040Z"
   },
   {
    "duration": 18,
    "start_time": "2022-01-22T08:31:36.251Z"
   },
   {
    "duration": 42,
    "start_time": "2022-01-22T08:31:36.271Z"
   },
   {
    "duration": 17,
    "start_time": "2022-01-22T08:31:36.315Z"
   },
   {
    "duration": 20,
    "start_time": "2022-01-22T08:31:36.334Z"
   },
   {
    "duration": 8,
    "start_time": "2022-01-22T08:31:36.355Z"
   },
   {
    "duration": 15,
    "start_time": "2022-01-22T08:31:36.364Z"
   },
   {
    "duration": 9,
    "start_time": "2022-01-22T08:31:36.382Z"
   },
   {
    "duration": 16,
    "start_time": "2022-01-22T08:31:36.393Z"
   },
   {
    "duration": 8,
    "start_time": "2022-01-22T08:31:36.411Z"
   },
   {
    "duration": 8,
    "start_time": "2022-01-22T08:31:36.421Z"
   },
   {
    "duration": 7,
    "start_time": "2022-01-22T08:31:36.431Z"
   },
   {
    "duration": 11,
    "start_time": "2022-01-22T08:31:36.440Z"
   },
   {
    "duration": 6,
    "start_time": "2022-01-22T08:31:36.453Z"
   },
   {
    "duration": 6,
    "start_time": "2022-01-22T08:31:36.461Z"
   },
   {
    "duration": 32,
    "start_time": "2022-01-22T08:31:36.470Z"
   },
   {
    "duration": 10,
    "start_time": "2022-01-22T08:31:36.504Z"
   },
   {
    "duration": 358,
    "start_time": "2022-01-22T08:31:36.515Z"
   },
   {
    "duration": 6,
    "start_time": "2022-01-22T08:31:36.875Z"
   },
   {
    "duration": 220,
    "start_time": "2022-01-22T08:31:36.883Z"
   },
   {
    "duration": 181,
    "start_time": "2022-01-22T08:31:37.105Z"
   },
   {
    "duration": 20,
    "start_time": "2022-01-22T08:31:37.288Z"
   },
   {
    "duration": 330,
    "start_time": "2022-01-22T08:31:37.310Z"
   },
   {
    "duration": 11,
    "start_time": "2022-01-22T08:31:37.642Z"
   },
   {
    "duration": 335,
    "start_time": "2022-01-22T08:31:37.655Z"
   },
   {
    "duration": 13,
    "start_time": "2022-01-22T08:31:37.994Z"
   },
   {
    "duration": 20,
    "start_time": "2022-01-22T08:31:38.010Z"
   },
   {
    "duration": 682,
    "start_time": "2022-01-22T08:31:38.031Z"
   },
   {
    "duration": 16,
    "start_time": "2022-01-22T08:31:38.715Z"
   },
   {
    "duration": 13,
    "start_time": "2022-01-22T08:31:38.733Z"
   },
   {
    "duration": 18,
    "start_time": "2022-01-22T08:31:38.748Z"
   },
   {
    "duration": 46,
    "start_time": "2022-01-22T08:31:38.767Z"
   },
   {
    "duration": 11,
    "start_time": "2022-01-22T08:31:38.815Z"
   },
   {
    "duration": 436,
    "start_time": "2022-01-22T08:31:38.828Z"
   },
   {
    "duration": 11,
    "start_time": "2022-01-22T08:31:39.266Z"
   },
   {
    "duration": 150,
    "start_time": "2022-01-22T08:31:39.278Z"
   },
   {
    "duration": 415,
    "start_time": "2022-01-22T08:31:39.429Z"
   },
   {
    "duration": 4,
    "start_time": "2022-01-22T08:31:39.846Z"
   },
   {
    "duration": 383,
    "start_time": "2022-01-22T08:31:39.852Z"
   },
   {
    "duration": 5,
    "start_time": "2022-01-22T08:31:40.237Z"
   },
   {
    "duration": 77,
    "start_time": "2022-01-22T08:31:40.244Z"
   },
   {
    "duration": 87,
    "start_time": "2022-01-22T08:31:40.323Z"
   },
   {
    "duration": 11,
    "start_time": "2022-01-22T08:31:40.411Z"
   },
   {
    "duration": 16,
    "start_time": "2022-01-22T08:31:40.424Z"
   },
   {
    "duration": 3,
    "start_time": "2022-01-22T08:31:40.443Z"
   },
   {
    "duration": 11,
    "start_time": "2022-01-22T08:31:40.448Z"
   },
   {
    "duration": 37,
    "start_time": "2022-01-22T08:31:40.461Z"
   },
   {
    "duration": 15,
    "start_time": "2022-01-22T08:31:40.500Z"
   },
   {
    "duration": 9,
    "start_time": "2022-01-22T08:31:40.517Z"
   },
   {
    "duration": 10,
    "start_time": "2022-01-22T08:31:40.528Z"
   },
   {
    "duration": 7,
    "start_time": "2022-01-22T08:31:40.540Z"
   },
   {
    "duration": 52,
    "start_time": "2022-01-22T08:31:40.549Z"
   },
   {
    "duration": 4,
    "start_time": "2022-01-22T10:12:15.798Z"
   },
   {
    "duration": 1408,
    "start_time": "2022-01-22T10:12:15.805Z"
   },
   {
    "duration": 19,
    "start_time": "2022-01-22T10:12:17.216Z"
   },
   {
    "duration": 42,
    "start_time": "2022-01-22T10:12:17.240Z"
   },
   {
    "duration": 19,
    "start_time": "2022-01-22T10:12:17.284Z"
   },
   {
    "duration": 19,
    "start_time": "2022-01-22T10:12:17.306Z"
   },
   {
    "duration": 8,
    "start_time": "2022-01-22T10:12:17.329Z"
   },
   {
    "duration": 29,
    "start_time": "2022-01-22T10:12:17.340Z"
   },
   {
    "duration": 10,
    "start_time": "2022-01-22T10:12:17.371Z"
   },
   {
    "duration": 11,
    "start_time": "2022-01-22T10:12:17.383Z"
   },
   {
    "duration": 9,
    "start_time": "2022-01-22T10:12:17.396Z"
   },
   {
    "duration": 11,
    "start_time": "2022-01-22T10:12:17.407Z"
   },
   {
    "duration": 5,
    "start_time": "2022-01-22T10:12:17.420Z"
   },
   {
    "duration": 13,
    "start_time": "2022-01-22T10:12:17.459Z"
   },
   {
    "duration": 7,
    "start_time": "2022-01-22T10:12:17.475Z"
   },
   {
    "duration": 6,
    "start_time": "2022-01-22T10:12:17.485Z"
   },
   {
    "duration": 14,
    "start_time": "2022-01-22T10:12:17.493Z"
   },
   {
    "duration": 61,
    "start_time": "2022-01-22T10:12:17.509Z"
   },
   {
    "duration": 489,
    "start_time": "2022-01-22T10:12:17.573Z"
   },
   {
    "duration": 11,
    "start_time": "2022-01-22T10:12:18.065Z"
   },
   {
    "duration": 370,
    "start_time": "2022-01-22T10:12:18.078Z"
   },
   {
    "duration": 273,
    "start_time": "2022-01-22T10:12:18.454Z"
   },
   {
    "duration": 35,
    "start_time": "2022-01-22T10:12:18.730Z"
   },
   {
    "duration": 587,
    "start_time": "2022-01-22T10:12:18.767Z"
   },
   {
    "duration": 19,
    "start_time": "2022-01-22T10:12:19.363Z"
   },
   {
    "duration": 546,
    "start_time": "2022-01-22T10:12:19.385Z"
   },
   {
    "duration": 25,
    "start_time": "2022-01-22T10:12:19.934Z"
   },
   {
    "duration": 21,
    "start_time": "2022-01-22T10:12:19.962Z"
   },
   {
    "duration": 1055,
    "start_time": "2022-01-22T10:12:19.986Z"
   },
   {
    "duration": 39,
    "start_time": "2022-01-22T10:12:21.044Z"
   },
   {
    "duration": 35,
    "start_time": "2022-01-22T10:12:21.086Z"
   },
   {
    "duration": 49,
    "start_time": "2022-01-22T10:12:21.123Z"
   },
   {
    "duration": 26,
    "start_time": "2022-01-22T10:12:21.175Z"
   },
   {
    "duration": 15,
    "start_time": "2022-01-22T10:12:21.204Z"
   },
   {
    "duration": 724,
    "start_time": "2022-01-22T10:12:21.221Z"
   },
   {
    "duration": 23,
    "start_time": "2022-01-22T10:12:21.948Z"
   },
   {
    "duration": 221,
    "start_time": "2022-01-22T10:12:21.973Z"
   },
   {
    "duration": 653,
    "start_time": "2022-01-22T10:12:22.197Z"
   },
   {
    "duration": 9,
    "start_time": "2022-01-22T10:12:22.853Z"
   },
   {
    "duration": 520,
    "start_time": "2022-01-22T10:12:22.865Z"
   },
   {
    "duration": 5,
    "start_time": "2022-01-22T10:12:23.388Z"
   },
   {
    "duration": 128,
    "start_time": "2022-01-22T10:12:23.395Z"
   },
   {
    "duration": 142,
    "start_time": "2022-01-22T10:12:23.525Z"
   },
   {
    "duration": 13,
    "start_time": "2022-01-22T10:12:23.670Z"
   },
   {
    "duration": 13,
    "start_time": "2022-01-22T10:12:23.686Z"
   },
   {
    "duration": 4,
    "start_time": "2022-01-22T10:12:23.702Z"
   },
   {
    "duration": 53,
    "start_time": "2022-01-22T10:12:23.709Z"
   },
   {
    "duration": 17,
    "start_time": "2022-01-22T10:12:23.765Z"
   },
   {
    "duration": 15,
    "start_time": "2022-01-22T10:12:23.785Z"
   },
   {
    "duration": 61,
    "start_time": "2022-01-22T10:12:23.803Z"
   },
   {
    "duration": 15,
    "start_time": "2022-01-22T10:12:23.867Z"
   },
   {
    "duration": 11,
    "start_time": "2022-01-22T10:12:23.884Z"
   },
   {
    "duration": 21,
    "start_time": "2022-01-22T10:12:23.898Z"
   },
   {
    "duration": 227,
    "start_time": "2022-01-22T11:05:35.309Z"
   },
   {
    "duration": 566,
    "start_time": "2022-01-22T11:15:27.522Z"
   },
   {
    "duration": 608,
    "start_time": "2022-01-22T11:16:04.298Z"
   },
   {
    "duration": 927,
    "start_time": "2022-01-22T11:18:00.209Z"
   },
   {
    "duration": 964,
    "start_time": "2022-01-22T11:18:20.728Z"
   },
   {
    "duration": 958,
    "start_time": "2022-01-22T11:22:06.916Z"
   },
   {
    "duration": 1196,
    "start_time": "2022-01-22T11:23:03.824Z"
   },
   {
    "duration": 1199,
    "start_time": "2022-01-22T11:23:24.294Z"
   },
   {
    "duration": 1017,
    "start_time": "2022-01-22T11:25:57.533Z"
   },
   {
    "duration": 183,
    "start_time": "2022-01-22T11:43:31.997Z"
   },
   {
    "duration": 12,
    "start_time": "2022-01-22T11:43:38.363Z"
   },
   {
    "duration": 406,
    "start_time": "2022-01-22T11:44:13.040Z"
   },
   {
    "duration": 5,
    "start_time": "2022-01-22T11:58:50.463Z"
   },
   {
    "duration": 93,
    "start_time": "2022-01-22T12:08:06.662Z"
   },
   {
    "duration": 3,
    "start_time": "2022-01-24T07:09:53.093Z"
   },
   {
    "duration": 1193,
    "start_time": "2022-01-24T07:09:53.099Z"
   },
   {
    "duration": 17,
    "start_time": "2022-01-24T07:09:54.294Z"
   },
   {
    "duration": 43,
    "start_time": "2022-01-24T07:09:54.314Z"
   },
   {
    "duration": 35,
    "start_time": "2022-01-24T07:09:54.359Z"
   },
   {
    "duration": 23,
    "start_time": "2022-01-24T07:09:54.395Z"
   },
   {
    "duration": 9,
    "start_time": "2022-01-24T07:09:54.419Z"
   },
   {
    "duration": 22,
    "start_time": "2022-01-24T07:09:54.430Z"
   },
   {
    "duration": 8,
    "start_time": "2022-01-24T07:09:54.456Z"
   },
   {
    "duration": 16,
    "start_time": "2022-01-24T07:09:54.466Z"
   },
   {
    "duration": 14,
    "start_time": "2022-01-24T07:09:54.484Z"
   },
   {
    "duration": 10,
    "start_time": "2022-01-24T07:09:54.500Z"
   },
   {
    "duration": 10,
    "start_time": "2022-01-24T07:09:54.512Z"
   },
   {
    "duration": 13,
    "start_time": "2022-01-24T07:09:54.523Z"
   },
   {
    "duration": 5,
    "start_time": "2022-01-24T07:09:54.538Z"
   },
   {
    "duration": 9,
    "start_time": "2022-01-24T07:09:54.545Z"
   },
   {
    "duration": 8,
    "start_time": "2022-01-24T07:09:54.557Z"
   },
   {
    "duration": 31,
    "start_time": "2022-01-24T07:09:54.567Z"
   },
   {
    "duration": 362,
    "start_time": "2022-01-24T07:09:54.600Z"
   },
   {
    "duration": 9,
    "start_time": "2022-01-24T07:09:54.963Z"
   },
   {
    "duration": 209,
    "start_time": "2022-01-24T07:09:54.974Z"
   },
   {
    "duration": 5599,
    "start_time": "2022-01-24T07:09:55.185Z"
   },
   {
    "duration": -1850,
    "start_time": "2022-01-24T07:10:02.637Z"
   },
   {
    "duration": -1854,
    "start_time": "2022-01-24T07:10:02.642Z"
   },
   {
    "duration": -1861,
    "start_time": "2022-01-24T07:10:02.650Z"
   },
   {
    "duration": -1865,
    "start_time": "2022-01-24T07:10:02.655Z"
   },
   {
    "duration": -1868,
    "start_time": "2022-01-24T07:10:02.659Z"
   },
   {
    "duration": -1895,
    "start_time": "2022-01-24T07:10:02.687Z"
   },
   {
    "duration": -1899,
    "start_time": "2022-01-24T07:10:02.692Z"
   },
   {
    "duration": -1903,
    "start_time": "2022-01-24T07:10:02.697Z"
   },
   {
    "duration": -1905,
    "start_time": "2022-01-24T07:10:02.701Z"
   },
   {
    "duration": -1908,
    "start_time": "2022-01-24T07:10:02.705Z"
   },
   {
    "duration": -1910,
    "start_time": "2022-01-24T07:10:02.708Z"
   },
   {
    "duration": -1912,
    "start_time": "2022-01-24T07:10:02.711Z"
   },
   {
    "duration": -1915,
    "start_time": "2022-01-24T07:10:02.715Z"
   },
   {
    "duration": -1918,
    "start_time": "2022-01-24T07:10:02.719Z"
   },
   {
    "duration": -1920,
    "start_time": "2022-01-24T07:10:02.722Z"
   },
   {
    "duration": -1922,
    "start_time": "2022-01-24T07:10:02.725Z"
   },
   {
    "duration": -1925,
    "start_time": "2022-01-24T07:10:02.729Z"
   },
   {
    "duration": -1927,
    "start_time": "2022-01-24T07:10:02.732Z"
   },
   {
    "duration": -1930,
    "start_time": "2022-01-24T07:10:02.736Z"
   },
   {
    "duration": -1932,
    "start_time": "2022-01-24T07:10:02.739Z"
   },
   {
    "duration": -1935,
    "start_time": "2022-01-24T07:10:02.743Z"
   },
   {
    "duration": -1938,
    "start_time": "2022-01-24T07:10:02.746Z"
   },
   {
    "duration": -1941,
    "start_time": "2022-01-24T07:10:02.750Z"
   },
   {
    "duration": -1943,
    "start_time": "2022-01-24T07:10:02.753Z"
   },
   {
    "duration": -1946,
    "start_time": "2022-01-24T07:10:02.756Z"
   },
   {
    "duration": -1949,
    "start_time": "2022-01-24T07:10:02.760Z"
   },
   {
    "duration": -1952,
    "start_time": "2022-01-24T07:10:02.764Z"
   },
   {
    "duration": -1955,
    "start_time": "2022-01-24T07:10:02.768Z"
   },
   {
    "duration": -1960,
    "start_time": "2022-01-24T07:10:02.773Z"
   },
   {
    "duration": -1964,
    "start_time": "2022-01-24T07:10:02.778Z"
   },
   {
    "duration": -1969,
    "start_time": "2022-01-24T07:10:02.784Z"
   },
   {
    "duration": -1982,
    "start_time": "2022-01-24T07:10:02.797Z"
   },
   {
    "duration": 159,
    "start_time": "2022-01-24T07:11:22.194Z"
   },
   {
    "duration": 14,
    "start_time": "2022-01-24T07:11:37.464Z"
   },
   {
    "duration": 332,
    "start_time": "2022-01-24T07:11:39.874Z"
   },
   {
    "duration": 505,
    "start_time": "2022-01-24T07:12:26.354Z"
   },
   {
    "duration": 329,
    "start_time": "2022-01-24T07:12:40.689Z"
   },
   {
    "duration": 13,
    "start_time": "2022-01-24T07:12:55.803Z"
   },
   {
    "duration": 333,
    "start_time": "2022-01-24T07:12:57.574Z"
   },
   {
    "duration": 356,
    "start_time": "2022-01-24T07:13:33.009Z"
   },
   {
    "duration": 9,
    "start_time": "2022-01-24T07:13:43.849Z"
   },
   {
    "duration": 14,
    "start_time": "2022-01-24T07:13:45.589Z"
   },
   {
    "duration": 753,
    "start_time": "2022-01-24T07:13:46.828Z"
   },
   {
    "duration": 647,
    "start_time": "2022-01-24T07:14:23.860Z"
   },
   {
    "duration": 16,
    "start_time": "2022-01-24T07:14:36.589Z"
   },
   {
    "duration": 15,
    "start_time": "2022-01-24T07:14:42.349Z"
   },
   {
    "duration": 15,
    "start_time": "2022-01-24T07:14:43.617Z"
   },
   {
    "duration": 18,
    "start_time": "2022-01-24T07:14:45.098Z"
   },
   {
    "duration": 12,
    "start_time": "2022-01-24T07:14:51.038Z"
   },
   {
    "duration": 401,
    "start_time": "2022-01-24T07:14:52.281Z"
   },
   {
    "duration": 17,
    "start_time": "2022-01-24T07:15:46.983Z"
   },
   {
    "duration": 15,
    "start_time": "2022-01-24T07:15:55.823Z"
   },
   {
    "duration": 14,
    "start_time": "2022-01-24T07:15:57.324Z"
   },
   {
    "duration": 18,
    "start_time": "2022-01-24T07:16:03.785Z"
   },
   {
    "duration": 11,
    "start_time": "2022-01-24T07:16:06.535Z"
   },
   {
    "duration": 362,
    "start_time": "2022-01-24T07:16:09.107Z"
   },
   {
    "duration": 6,
    "start_time": "2022-01-24T07:17:20.403Z"
   },
   {
    "duration": 149,
    "start_time": "2022-01-24T07:17:45.014Z"
   },
   {
    "duration": 14,
    "start_time": "2022-01-24T07:17:53.344Z"
   },
   {
    "duration": 322,
    "start_time": "2022-01-24T07:17:54.822Z"
   },
   {
    "duration": 13,
    "start_time": "2022-01-24T07:18:00.105Z"
   },
   {
    "duration": 344,
    "start_time": "2022-01-24T07:18:00.905Z"
   },
   {
    "duration": 8,
    "start_time": "2022-01-24T07:18:04.081Z"
   },
   {
    "duration": 14,
    "start_time": "2022-01-24T07:18:05.074Z"
   },
   {
    "duration": 685,
    "start_time": "2022-01-24T07:18:06.014Z"
   },
   {
    "duration": 6,
    "start_time": "2022-01-24T07:19:08.751Z"
   },
   {
    "duration": 13,
    "start_time": "2022-01-24T07:19:23.511Z"
   },
   {
    "duration": 182,
    "start_time": "2022-01-24T07:19:57.964Z"
   },
   {
    "duration": 11,
    "start_time": "2022-01-24T07:20:29.106Z"
   },
   {
    "duration": 7,
    "start_time": "2022-01-24T07:21:54.152Z"
   },
   {
    "duration": 15,
    "start_time": "2022-01-24T07:22:05.481Z"
   },
   {
    "duration": 14,
    "start_time": "2022-01-24T07:22:54.701Z"
   },
   {
    "duration": 15,
    "start_time": "2022-01-24T07:23:11.918Z"
   },
   {
    "duration": 13,
    "start_time": "2022-01-24T07:24:13.531Z"
   },
   {
    "duration": 430,
    "start_time": "2022-01-24T07:25:08.771Z"
   },
   {
    "duration": 14,
    "start_time": "2022-01-24T07:25:19.691Z"
   },
   {
    "duration": 108,
    "start_time": "2022-01-24T07:26:53.255Z"
   },
   {
    "duration": 431,
    "start_time": "2022-01-24T07:26:54.716Z"
   },
   {
    "duration": 5,
    "start_time": "2022-01-24T07:27:04.385Z"
   },
   {
    "duration": 273,
    "start_time": "2022-01-24T07:27:07.360Z"
   },
   {
    "duration": 177,
    "start_time": "2022-01-24T07:29:41.166Z"
   },
   {
    "duration": 536,
    "start_time": "2022-01-24T07:29:55.067Z"
   },
   {
    "duration": 1252,
    "start_time": "2022-01-24T07:30:03.703Z"
   },
   {
    "duration": 342,
    "start_time": "2022-01-24T07:31:10.143Z"
   },
   {
    "duration": 309,
    "start_time": "2022-01-24T07:31:17.326Z"
   },
   {
    "duration": 71,
    "start_time": "2022-01-24T07:31:35.107Z"
   },
   {
    "duration": 71,
    "start_time": "2022-01-24T07:31:36.294Z"
   },
   {
    "duration": 8,
    "start_time": "2022-01-24T07:31:42.455Z"
   },
   {
    "duration": 9,
    "start_time": "2022-01-24T07:31:43.444Z"
   },
   {
    "duration": 3,
    "start_time": "2022-01-24T07:31:55.405Z"
   },
   {
    "duration": 9,
    "start_time": "2022-01-24T07:31:56.596Z"
   },
   {
    "duration": 4,
    "start_time": "2022-01-24T07:32:29.876Z"
   },
   {
    "duration": 11,
    "start_time": "2022-01-24T07:32:54.266Z"
   },
   {
    "duration": 8,
    "start_time": "2022-01-24T07:33:38.065Z"
   },
   {
    "duration": 4,
    "start_time": "2022-01-24T07:33:43.896Z"
   },
   {
    "duration": 12,
    "start_time": "2022-01-24T07:34:13.965Z"
   },
   {
    "duration": 11,
    "start_time": "2022-01-24T07:34:23.095Z"
   },
   {
    "duration": 11,
    "start_time": "2022-01-24T07:35:37.050Z"
   },
   {
    "duration": 9,
    "start_time": "2022-01-24T07:35:50.899Z"
   },
   {
    "duration": 10,
    "start_time": "2022-01-24T07:35:52.050Z"
   },
   {
    "duration": 9,
    "start_time": "2022-01-24T07:36:23.081Z"
   },
   {
    "duration": 12,
    "start_time": "2022-01-24T07:36:24.001Z"
   },
   {
    "duration": 7,
    "start_time": "2022-01-24T07:36:38.890Z"
   },
   {
    "duration": 175,
    "start_time": "2022-01-24T07:37:13.130Z"
   },
   {
    "duration": 14,
    "start_time": "2022-01-24T07:37:45.660Z"
   },
   {
    "duration": 3,
    "start_time": "2022-01-24T07:40:53.421Z"
   },
   {
    "duration": 1154,
    "start_time": "2022-01-24T07:40:53.427Z"
   },
   {
    "duration": 17,
    "start_time": "2022-01-24T07:40:54.584Z"
   },
   {
    "duration": 44,
    "start_time": "2022-01-24T07:40:54.604Z"
   },
   {
    "duration": 18,
    "start_time": "2022-01-24T07:40:54.650Z"
   },
   {
    "duration": 15,
    "start_time": "2022-01-24T07:40:54.669Z"
   },
   {
    "duration": 7,
    "start_time": "2022-01-24T07:40:54.686Z"
   },
   {
    "duration": 17,
    "start_time": "2022-01-24T07:40:54.694Z"
   },
   {
    "duration": 9,
    "start_time": "2022-01-24T07:40:54.714Z"
   },
   {
    "duration": 10,
    "start_time": "2022-01-24T07:40:54.726Z"
   },
   {
    "duration": 9,
    "start_time": "2022-01-24T07:40:54.738Z"
   },
   {
    "duration": 9,
    "start_time": "2022-01-24T07:40:54.749Z"
   },
   {
    "duration": 10,
    "start_time": "2022-01-24T07:40:54.760Z"
   },
   {
    "duration": 31,
    "start_time": "2022-01-24T07:40:54.772Z"
   },
   {
    "duration": 10,
    "start_time": "2022-01-24T07:40:54.805Z"
   },
   {
    "duration": 12,
    "start_time": "2022-01-24T07:40:54.817Z"
   },
   {
    "duration": 16,
    "start_time": "2022-01-24T07:40:54.832Z"
   },
   {
    "duration": 12,
    "start_time": "2022-01-24T07:40:54.850Z"
   },
   {
    "duration": 410,
    "start_time": "2022-01-24T07:40:54.864Z"
   },
   {
    "duration": 6,
    "start_time": "2022-01-24T07:40:55.276Z"
   },
   {
    "duration": 227,
    "start_time": "2022-01-24T07:40:55.284Z"
   },
   {
    "duration": 154,
    "start_time": "2022-01-24T07:40:55.513Z"
   },
   {
    "duration": 14,
    "start_time": "2022-01-24T07:40:55.669Z"
   },
   {
    "duration": 381,
    "start_time": "2022-01-24T07:40:55.684Z"
   },
   {
    "duration": 13,
    "start_time": "2022-01-24T07:40:56.067Z"
   },
   {
    "duration": 389,
    "start_time": "2022-01-24T07:40:56.082Z"
   },
   {
    "duration": 8,
    "start_time": "2022-01-24T07:40:56.476Z"
   },
   {
    "duration": 15,
    "start_time": "2022-01-24T07:40:56.497Z"
   },
   {
    "duration": 711,
    "start_time": "2022-01-24T07:40:56.513Z"
   },
   {
    "duration": 12,
    "start_time": "2022-01-24T07:40:57.226Z"
   },
   {
    "duration": 14,
    "start_time": "2022-01-24T07:40:57.240Z"
   },
   {
    "duration": 17,
    "start_time": "2022-01-24T07:40:57.256Z"
   },
   {
    "duration": 32,
    "start_time": "2022-01-24T07:40:57.275Z"
   },
   {
    "duration": 429,
    "start_time": "2022-01-24T07:40:57.309Z"
   },
   {
    "duration": 12,
    "start_time": "2022-01-24T07:40:57.740Z"
   },
   {
    "duration": 128,
    "start_time": "2022-01-24T07:40:57.753Z"
   },
   {
    "duration": 470,
    "start_time": "2022-01-24T07:40:57.883Z"
   },
   {
    "duration": 5,
    "start_time": "2022-01-24T07:40:58.354Z"
   },
   {
    "duration": 368,
    "start_time": "2022-01-24T07:40:58.360Z"
   },
   {
    "duration": 5,
    "start_time": "2022-01-24T07:40:58.729Z"
   },
   {
    "duration": 74,
    "start_time": "2022-01-24T07:40:58.736Z"
   },
   {
    "duration": 66,
    "start_time": "2022-01-24T07:40:58.811Z"
   },
   {
    "duration": 24,
    "start_time": "2022-01-24T07:40:58.879Z"
   },
   {
    "duration": 8,
    "start_time": "2022-01-24T07:40:58.905Z"
   },
   {
    "duration": 2,
    "start_time": "2022-01-24T07:40:58.915Z"
   },
   {
    "duration": 16,
    "start_time": "2022-01-24T07:40:58.919Z"
   },
   {
    "duration": 6,
    "start_time": "2022-01-24T07:40:58.937Z"
   },
   {
    "duration": 22,
    "start_time": "2022-01-24T07:40:58.945Z"
   },
   {
    "duration": 36,
    "start_time": "2022-01-24T07:40:58.969Z"
   },
   {
    "duration": 9,
    "start_time": "2022-01-24T07:40:59.006Z"
   },
   {
    "duration": 12,
    "start_time": "2022-01-24T07:40:59.016Z"
   },
   {
    "duration": 7,
    "start_time": "2022-01-24T07:40:59.030Z"
   },
   {
    "duration": 14,
    "start_time": "2022-01-24T07:40:59.038Z"
   },
   {
    "duration": 3,
    "start_time": "2022-01-24T19:26:52.867Z"
   },
   {
    "duration": 1177,
    "start_time": "2022-01-24T19:26:52.875Z"
   },
   {
    "duration": 17,
    "start_time": "2022-01-24T19:26:54.054Z"
   },
   {
    "duration": 40,
    "start_time": "2022-01-24T19:26:54.073Z"
   },
   {
    "duration": 21,
    "start_time": "2022-01-24T19:26:54.115Z"
   },
   {
    "duration": 24,
    "start_time": "2022-01-24T19:26:54.137Z"
   },
   {
    "duration": 10,
    "start_time": "2022-01-24T19:26:54.162Z"
   },
   {
    "duration": 12,
    "start_time": "2022-01-24T19:26:54.174Z"
   },
   {
    "duration": 12,
    "start_time": "2022-01-24T19:26:54.188Z"
   },
   {
    "duration": 11,
    "start_time": "2022-01-24T19:26:54.202Z"
   },
   {
    "duration": 10,
    "start_time": "2022-01-24T19:26:54.215Z"
   },
   {
    "duration": 8,
    "start_time": "2022-01-24T19:26:54.226Z"
   },
   {
    "duration": 5,
    "start_time": "2022-01-24T19:26:54.236Z"
   },
   {
    "duration": 12,
    "start_time": "2022-01-24T19:26:54.243Z"
   },
   {
    "duration": 7,
    "start_time": "2022-01-24T19:26:54.257Z"
   },
   {
    "duration": 7,
    "start_time": "2022-01-24T19:26:54.265Z"
   },
   {
    "duration": 24,
    "start_time": "2022-01-24T19:26:54.274Z"
   },
   {
    "duration": 11,
    "start_time": "2022-01-24T19:26:54.299Z"
   },
   {
    "duration": 364,
    "start_time": "2022-01-24T19:26:54.311Z"
   },
   {
    "duration": 6,
    "start_time": "2022-01-24T19:26:54.677Z"
   },
   {
    "duration": 206,
    "start_time": "2022-01-24T19:26:54.684Z"
   },
   {
    "duration": 150,
    "start_time": "2022-01-24T19:26:54.892Z"
   },
   {
    "duration": 12,
    "start_time": "2022-01-24T19:26:55.044Z"
   },
   {
    "duration": 347,
    "start_time": "2022-01-24T19:26:55.058Z"
   },
   {
    "duration": 11,
    "start_time": "2022-01-24T19:26:55.406Z"
   },
   {
    "duration": 349,
    "start_time": "2022-01-24T19:26:55.419Z"
   },
   {
    "duration": 8,
    "start_time": "2022-01-24T19:26:55.769Z"
   },
   {
    "duration": 23,
    "start_time": "2022-01-24T19:26:55.781Z"
   },
   {
    "duration": 693,
    "start_time": "2022-01-24T19:26:55.806Z"
   },
   {
    "duration": 12,
    "start_time": "2022-01-24T19:26:56.501Z"
   },
   {
    "duration": 13,
    "start_time": "2022-01-24T19:26:56.514Z"
   },
   {
    "duration": 18,
    "start_time": "2022-01-24T19:26:56.529Z"
   },
   {
    "duration": 14,
    "start_time": "2022-01-24T19:26:56.549Z"
   },
   {
    "duration": 420,
    "start_time": "2022-01-24T19:26:56.565Z"
   },
   {
    "duration": 20,
    "start_time": "2022-01-24T19:26:56.986Z"
   },
   {
    "duration": 114,
    "start_time": "2022-01-24T19:26:57.008Z"
   },
   {
    "duration": 426,
    "start_time": "2022-01-24T19:26:57.124Z"
   },
   {
    "duration": 4,
    "start_time": "2022-01-24T19:26:57.551Z"
   },
   {
    "duration": 368,
    "start_time": "2022-01-24T19:26:57.557Z"
   },
   {
    "duration": 4,
    "start_time": "2022-01-24T19:26:57.927Z"
   },
   {
    "duration": 75,
    "start_time": "2022-01-24T19:26:57.932Z"
   },
   {
    "duration": 60,
    "start_time": "2022-01-24T19:26:58.009Z"
   },
   {
    "duration": 7,
    "start_time": "2022-01-24T19:26:58.071Z"
   },
   {
    "duration": 8,
    "start_time": "2022-01-24T19:26:58.097Z"
   },
   {
    "duration": 5,
    "start_time": "2022-01-24T19:26:58.106Z"
   },
   {
    "duration": 12,
    "start_time": "2022-01-24T19:26:58.113Z"
   },
   {
    "duration": 3,
    "start_time": "2022-01-24T19:26:58.126Z"
   },
   {
    "duration": 11,
    "start_time": "2022-01-24T19:26:58.131Z"
   },
   {
    "duration": 10,
    "start_time": "2022-01-24T19:26:58.144Z"
   },
   {
    "duration": 42,
    "start_time": "2022-01-24T19:26:58.156Z"
   },
   {
    "duration": 9,
    "start_time": "2022-01-24T19:26:58.199Z"
   },
   {
    "duration": 7,
    "start_time": "2022-01-24T19:26:58.210Z"
   },
   {
    "duration": 15,
    "start_time": "2022-01-24T19:26:58.218Z"
   },
   {
    "duration": 8,
    "start_time": "2022-01-24T19:30:34.720Z"
   },
   {
    "duration": 6,
    "start_time": "2022-01-24T19:34:53.171Z"
   },
   {
    "duration": 7,
    "start_time": "2022-01-24T19:36:12.019Z"
   },
   {
    "duration": 8,
    "start_time": "2022-01-24T19:36:16.784Z"
   },
   {
    "duration": 593,
    "start_time": "2022-01-24T20:17:20.601Z"
   },
   {
    "duration": 5,
    "start_time": "2022-01-24T20:17:38.517Z"
   },
   {
    "duration": 1118,
    "start_time": "2022-01-24T20:17:38.524Z"
   },
   {
    "duration": 16,
    "start_time": "2022-01-24T20:17:39.644Z"
   },
   {
    "duration": 41,
    "start_time": "2022-01-24T20:17:39.662Z"
   },
   {
    "duration": 16,
    "start_time": "2022-01-24T20:17:39.705Z"
   },
   {
    "duration": 14,
    "start_time": "2022-01-24T20:17:39.722Z"
   },
   {
    "duration": 8,
    "start_time": "2022-01-24T20:17:39.738Z"
   },
   {
    "duration": 12,
    "start_time": "2022-01-24T20:17:39.748Z"
   },
   {
    "duration": 7,
    "start_time": "2022-01-24T20:17:39.763Z"
   },
   {
    "duration": 8,
    "start_time": "2022-01-24T20:17:39.772Z"
   },
   {
    "duration": 19,
    "start_time": "2022-01-24T20:17:39.781Z"
   },
   {
    "duration": 11,
    "start_time": "2022-01-24T20:17:39.802Z"
   },
   {
    "duration": 8,
    "start_time": "2022-01-24T20:17:39.814Z"
   },
   {
    "duration": 11,
    "start_time": "2022-01-24T20:17:39.824Z"
   },
   {
    "duration": 5,
    "start_time": "2022-01-24T20:17:39.837Z"
   },
   {
    "duration": 7,
    "start_time": "2022-01-24T20:17:39.843Z"
   },
   {
    "duration": 9,
    "start_time": "2022-01-24T20:17:39.853Z"
   },
   {
    "duration": 12,
    "start_time": "2022-01-24T20:17:39.864Z"
   },
   {
    "duration": 359,
    "start_time": "2022-01-24T20:17:39.898Z"
   },
   {
    "duration": 255,
    "start_time": "2022-01-24T20:17:40.259Z"
   },
   {
    "duration": -942,
    "start_time": "2022-01-24T20:17:41.458Z"
   },
   {
    "duration": -947,
    "start_time": "2022-01-24T20:17:41.464Z"
   },
   {
    "duration": -958,
    "start_time": "2022-01-24T20:17:41.476Z"
   },
   {
    "duration": -972,
    "start_time": "2022-01-24T20:17:41.491Z"
   },
   {
    "duration": -977,
    "start_time": "2022-01-24T20:17:41.497Z"
   },
   {
    "duration": -988,
    "start_time": "2022-01-24T20:17:41.509Z"
   },
   {
    "duration": -992,
    "start_time": "2022-01-24T20:17:41.514Z"
   },
   {
    "duration": -1005,
    "start_time": "2022-01-24T20:17:41.528Z"
   },
   {
    "duration": -1017,
    "start_time": "2022-01-24T20:17:41.541Z"
   },
   {
    "duration": -1060,
    "start_time": "2022-01-24T20:17:41.585Z"
   },
   {
    "duration": -1070,
    "start_time": "2022-01-24T20:17:41.596Z"
   },
   {
    "duration": -1081,
    "start_time": "2022-01-24T20:17:41.608Z"
   },
   {
    "duration": -1084,
    "start_time": "2022-01-24T20:17:41.612Z"
   },
   {
    "duration": -1095,
    "start_time": "2022-01-24T20:17:41.624Z"
   },
   {
    "duration": -1098,
    "start_time": "2022-01-24T20:17:41.628Z"
   },
   {
    "duration": -1105,
    "start_time": "2022-01-24T20:17:41.636Z"
   },
   {
    "duration": -1112,
    "start_time": "2022-01-24T20:17:41.643Z"
   },
   {
    "duration": -1116,
    "start_time": "2022-01-24T20:17:41.648Z"
   },
   {
    "duration": -1124,
    "start_time": "2022-01-24T20:17:41.657Z"
   },
   {
    "duration": -1128,
    "start_time": "2022-01-24T20:17:41.662Z"
   },
   {
    "duration": -1135,
    "start_time": "2022-01-24T20:17:41.670Z"
   },
   {
    "duration": -1141,
    "start_time": "2022-01-24T20:17:41.677Z"
   },
   {
    "duration": -1159,
    "start_time": "2022-01-24T20:17:41.696Z"
   },
   {
    "duration": -1168,
    "start_time": "2022-01-24T20:17:41.706Z"
   },
   {
    "duration": -1173,
    "start_time": "2022-01-24T20:17:41.712Z"
   },
   {
    "duration": -1183,
    "start_time": "2022-01-24T20:17:41.722Z"
   },
   {
    "duration": -1188,
    "start_time": "2022-01-24T20:17:41.728Z"
   },
   {
    "duration": -1215,
    "start_time": "2022-01-24T20:17:41.756Z"
   },
   {
    "duration": -1227,
    "start_time": "2022-01-24T20:17:41.769Z"
   },
   {
    "duration": -1247,
    "start_time": "2022-01-24T20:17:41.790Z"
   },
   {
    "duration": -1278,
    "start_time": "2022-01-24T20:17:41.822Z"
   },
   {
    "duration": -1309,
    "start_time": "2022-01-24T20:17:41.854Z"
   },
   {
    "duration": -1315,
    "start_time": "2022-01-24T20:17:41.861Z"
   },
   {
    "duration": 176,
    "start_time": "2022-01-24T20:19:08.212Z"
   },
   {
    "duration": 8,
    "start_time": "2022-01-24T20:19:58.985Z"
   },
   {
    "duration": 180,
    "start_time": "2022-01-24T20:31:08.992Z"
   },
   {
    "duration": 178,
    "start_time": "2022-01-24T20:31:34.371Z"
   },
   {
    "duration": 5,
    "start_time": "2022-01-24T20:33:26.931Z"
   },
   {
    "duration": 3350,
    "start_time": "2022-01-24T20:33:34.681Z"
   },
   {
    "duration": 158,
    "start_time": "2022-01-24T20:33:40.661Z"
   },
   {
    "duration": 7,
    "start_time": "2022-01-24T20:34:19.000Z"
   },
   {
    "duration": 4,
    "start_time": "2022-01-24T20:34:39.500Z"
   },
   {
    "duration": 1200,
    "start_time": "2022-01-24T20:34:39.506Z"
   },
   {
    "duration": 17,
    "start_time": "2022-01-24T20:34:40.709Z"
   },
   {
    "duration": 43,
    "start_time": "2022-01-24T20:34:40.728Z"
   },
   {
    "duration": 20,
    "start_time": "2022-01-24T20:34:40.773Z"
   },
   {
    "duration": 15,
    "start_time": "2022-01-24T20:34:40.795Z"
   },
   {
    "duration": 10,
    "start_time": "2022-01-24T20:34:40.811Z"
   },
   {
    "duration": 12,
    "start_time": "2022-01-24T20:34:40.823Z"
   },
   {
    "duration": 9,
    "start_time": "2022-01-24T20:34:40.838Z"
   },
   {
    "duration": 10,
    "start_time": "2022-01-24T20:34:40.849Z"
   },
   {
    "duration": 8,
    "start_time": "2022-01-24T20:34:40.860Z"
   },
   {
    "duration": 28,
    "start_time": "2022-01-24T20:34:40.869Z"
   },
   {
    "duration": 4,
    "start_time": "2022-01-24T20:34:40.899Z"
   },
   {
    "duration": 13,
    "start_time": "2022-01-24T20:34:40.904Z"
   },
   {
    "duration": 6,
    "start_time": "2022-01-24T20:34:40.918Z"
   },
   {
    "duration": 7,
    "start_time": "2022-01-24T20:34:40.926Z"
   },
   {
    "duration": 9,
    "start_time": "2022-01-24T20:34:40.936Z"
   },
   {
    "duration": 16,
    "start_time": "2022-01-24T20:34:40.947Z"
   },
   {
    "duration": 391,
    "start_time": "2022-01-24T20:34:40.965Z"
   },
   {
    "duration": 6,
    "start_time": "2022-01-24T20:34:41.357Z"
   },
   {
    "duration": 14,
    "start_time": "2022-01-24T20:34:41.365Z"
   },
   {
    "duration": 3160,
    "start_time": "2022-01-24T20:34:41.380Z"
   },
   {
    "duration": 160,
    "start_time": "2022-01-24T20:34:44.542Z"
   },
   {
    "duration": 15,
    "start_time": "2022-01-24T20:34:44.703Z"
   },
   {
    "duration": 1440,
    "start_time": "2022-01-24T20:34:44.720Z"
   },
   {
    "duration": 12,
    "start_time": "2022-01-24T20:34:46.162Z"
   },
   {
    "duration": 1404,
    "start_time": "2022-01-24T20:34:46.198Z"
   },
   {
    "duration": 9,
    "start_time": "2022-01-24T20:34:47.605Z"
   },
   {
    "duration": 13,
    "start_time": "2022-01-24T20:34:47.616Z"
   },
   {
    "duration": 998,
    "start_time": "2022-01-24T20:34:47.631Z"
   },
   {
    "duration": 14,
    "start_time": "2022-01-24T20:34:48.631Z"
   },
   {
    "duration": 11,
    "start_time": "2022-01-24T20:34:48.647Z"
   },
   {
    "duration": 39,
    "start_time": "2022-01-24T20:34:48.659Z"
   },
   {
    "duration": 13,
    "start_time": "2022-01-24T20:34:48.700Z"
   },
   {
    "duration": 1603,
    "start_time": "2022-01-24T20:34:48.716Z"
   },
   {
    "duration": 14,
    "start_time": "2022-01-24T20:34:50.322Z"
   },
   {
    "duration": 125,
    "start_time": "2022-01-24T20:34:50.338Z"
   },
   {
    "duration": 468,
    "start_time": "2022-01-24T20:34:50.465Z"
   },
   {
    "duration": 5,
    "start_time": "2022-01-24T20:34:50.936Z"
   },
   {
    "duration": 280,
    "start_time": "2022-01-24T20:34:50.942Z"
   },
   {
    "duration": 5,
    "start_time": "2022-01-24T20:34:51.223Z"
   },
   {
    "duration": 94,
    "start_time": "2022-01-24T20:34:51.229Z"
   },
   {
    "duration": 94,
    "start_time": "2022-01-24T20:34:51.325Z"
   },
   {
    "duration": 8,
    "start_time": "2022-01-24T20:34:51.421Z"
   },
   {
    "duration": 13,
    "start_time": "2022-01-24T20:34:51.430Z"
   },
   {
    "duration": 5,
    "start_time": "2022-01-24T20:34:51.444Z"
   },
   {
    "duration": 10,
    "start_time": "2022-01-24T20:34:51.450Z"
   },
   {
    "duration": 4,
    "start_time": "2022-01-24T20:34:51.461Z"
   },
   {
    "duration": 38,
    "start_time": "2022-01-24T20:34:51.466Z"
   },
   {
    "duration": 10,
    "start_time": "2022-01-24T20:34:51.506Z"
   },
   {
    "duration": 8,
    "start_time": "2022-01-24T20:34:51.518Z"
   },
   {
    "duration": 14,
    "start_time": "2022-01-24T20:34:51.528Z"
   },
   {
    "duration": 14,
    "start_time": "2022-01-24T20:34:51.544Z"
   },
   {
    "duration": 43,
    "start_time": "2022-01-24T20:34:51.560Z"
   },
   {
    "duration": 4,
    "start_time": "2022-01-24T20:55:29.216Z"
   },
   {
    "duration": 1108,
    "start_time": "2022-01-24T20:55:29.222Z"
   },
   {
    "duration": 18,
    "start_time": "2022-01-24T20:55:30.332Z"
   },
   {
    "duration": 51,
    "start_time": "2022-01-24T20:55:30.351Z"
   },
   {
    "duration": 22,
    "start_time": "2022-01-24T20:55:30.404Z"
   },
   {
    "duration": 19,
    "start_time": "2022-01-24T20:55:30.427Z"
   },
   {
    "duration": 15,
    "start_time": "2022-01-24T20:55:30.448Z"
   },
   {
    "duration": 17,
    "start_time": "2022-01-24T20:55:30.466Z"
   },
   {
    "duration": 12,
    "start_time": "2022-01-24T20:55:30.485Z"
   },
   {
    "duration": 15,
    "start_time": "2022-01-24T20:55:30.499Z"
   },
   {
    "duration": 24,
    "start_time": "2022-01-24T20:55:30.516Z"
   },
   {
    "duration": 20,
    "start_time": "2022-01-24T20:55:30.542Z"
   },
   {
    "duration": 7,
    "start_time": "2022-01-24T20:55:30.564Z"
   },
   {
    "duration": 13,
    "start_time": "2022-01-24T20:55:30.573Z"
   },
   {
    "duration": 8,
    "start_time": "2022-01-24T20:55:30.588Z"
   },
   {
    "duration": 11,
    "start_time": "2022-01-24T20:55:30.598Z"
   },
   {
    "duration": 14,
    "start_time": "2022-01-24T20:55:30.611Z"
   },
   {
    "duration": 18,
    "start_time": "2022-01-24T20:55:30.627Z"
   },
   {
    "duration": 366,
    "start_time": "2022-01-24T20:55:30.647Z"
   },
   {
    "duration": 6,
    "start_time": "2022-01-24T20:55:31.015Z"
   },
   {
    "duration": 20,
    "start_time": "2022-01-24T20:55:31.023Z"
   },
   {
    "duration": 3053,
    "start_time": "2022-01-24T20:55:31.045Z"
   },
   {
    "duration": 148,
    "start_time": "2022-01-24T20:55:34.100Z"
   },
   {
    "duration": 12,
    "start_time": "2022-01-24T20:55:34.250Z"
   },
   {
    "duration": 1363,
    "start_time": "2022-01-24T20:55:34.264Z"
   },
   {
    "duration": 11,
    "start_time": "2022-01-24T20:55:35.631Z"
   },
   {
    "duration": 1326,
    "start_time": "2022-01-24T20:55:35.645Z"
   },
   {
    "duration": 9,
    "start_time": "2022-01-24T20:55:36.973Z"
   },
   {
    "duration": 31,
    "start_time": "2022-01-24T20:55:36.984Z"
   },
   {
    "duration": 964,
    "start_time": "2022-01-24T20:55:37.017Z"
   },
   {
    "duration": 19,
    "start_time": "2022-01-24T20:55:37.983Z"
   },
   {
    "duration": 9,
    "start_time": "2022-01-24T20:55:38.004Z"
   },
   {
    "duration": 15,
    "start_time": "2022-01-24T20:55:38.014Z"
   },
   {
    "duration": 11,
    "start_time": "2022-01-24T20:55:38.030Z"
   },
   {
    "duration": 1411,
    "start_time": "2022-01-24T20:55:38.042Z"
   },
   {
    "duration": 12,
    "start_time": "2022-01-24T20:55:39.455Z"
   },
   {
    "duration": 134,
    "start_time": "2022-01-24T20:55:39.469Z"
   },
   {
    "duration": 524,
    "start_time": "2022-01-24T20:55:39.605Z"
   },
   {
    "duration": 4,
    "start_time": "2022-01-24T20:55:40.131Z"
   },
   {
    "duration": 291,
    "start_time": "2022-01-24T20:55:40.136Z"
   },
   {
    "duration": 4,
    "start_time": "2022-01-24T20:55:40.429Z"
   },
   {
    "duration": 74,
    "start_time": "2022-01-24T20:55:40.435Z"
   },
   {
    "duration": 64,
    "start_time": "2022-01-24T20:55:40.511Z"
   },
   {
    "duration": 26,
    "start_time": "2022-01-24T20:55:40.576Z"
   },
   {
    "duration": 12,
    "start_time": "2022-01-24T20:55:40.603Z"
   },
   {
    "duration": 5,
    "start_time": "2022-01-24T20:55:40.616Z"
   },
   {
    "duration": 9,
    "start_time": "2022-01-24T20:55:40.623Z"
   },
   {
    "duration": 3,
    "start_time": "2022-01-24T20:55:40.634Z"
   },
   {
    "duration": 13,
    "start_time": "2022-01-24T20:55:40.638Z"
   },
   {
    "duration": 10,
    "start_time": "2022-01-24T20:55:40.652Z"
   },
   {
    "duration": 36,
    "start_time": "2022-01-24T20:55:40.664Z"
   },
   {
    "duration": 9,
    "start_time": "2022-01-24T20:55:40.701Z"
   },
   {
    "duration": 7,
    "start_time": "2022-01-24T20:55:40.711Z"
   },
   {
    "duration": 13,
    "start_time": "2022-01-24T20:55:40.719Z"
   },
   {
    "duration": 3,
    "start_time": "2022-01-24T20:57:05.898Z"
   },
   {
    "duration": 1122,
    "start_time": "2022-01-24T20:57:05.903Z"
   },
   {
    "duration": 23,
    "start_time": "2022-01-24T20:57:07.027Z"
   },
   {
    "duration": 44,
    "start_time": "2022-01-24T20:57:07.052Z"
   },
   {
    "duration": 17,
    "start_time": "2022-01-24T20:57:07.098Z"
   },
   {
    "duration": 13,
    "start_time": "2022-01-24T20:57:07.117Z"
   },
   {
    "duration": 8,
    "start_time": "2022-01-24T20:57:07.132Z"
   },
   {
    "duration": 12,
    "start_time": "2022-01-24T20:57:07.142Z"
   },
   {
    "duration": 9,
    "start_time": "2022-01-24T20:57:07.156Z"
   },
   {
    "duration": 31,
    "start_time": "2022-01-24T20:57:07.166Z"
   },
   {
    "duration": 14,
    "start_time": "2022-01-24T20:57:07.199Z"
   },
   {
    "duration": 11,
    "start_time": "2022-01-24T20:57:07.215Z"
   },
   {
    "duration": 5,
    "start_time": "2022-01-24T20:57:07.227Z"
   },
   {
    "duration": 13,
    "start_time": "2022-01-24T20:57:07.234Z"
   },
   {
    "duration": 14,
    "start_time": "2022-01-24T20:57:07.248Z"
   },
   {
    "duration": 8,
    "start_time": "2022-01-24T20:57:07.264Z"
   },
   {
    "duration": 12,
    "start_time": "2022-01-24T20:57:07.274Z"
   },
   {
    "duration": 19,
    "start_time": "2022-01-24T20:57:07.288Z"
   },
   {
    "duration": 347,
    "start_time": "2022-01-24T20:57:07.309Z"
   },
   {
    "duration": 6,
    "start_time": "2022-01-24T20:57:07.658Z"
   },
   {
    "duration": 4,
    "start_time": "2022-01-24T20:57:07.666Z"
   },
   {
    "duration": 14,
    "start_time": "2022-01-24T20:57:07.672Z"
   },
   {
    "duration": 207,
    "start_time": "2022-01-24T20:57:07.699Z"
   },
   {
    "duration": 167,
    "start_time": "2022-01-24T20:57:07.909Z"
   },
   {
    "duration": 21,
    "start_time": "2022-01-24T20:57:08.077Z"
   },
   {
    "duration": 357,
    "start_time": "2022-01-24T20:57:08.100Z"
   },
   {
    "duration": 11,
    "start_time": "2022-01-24T20:57:08.459Z"
   },
   {
    "duration": 337,
    "start_time": "2022-01-24T20:57:08.472Z"
   },
   {
    "duration": 7,
    "start_time": "2022-01-24T20:57:08.811Z"
   },
   {
    "duration": 19,
    "start_time": "2022-01-24T20:57:08.819Z"
   },
   {
    "duration": 660,
    "start_time": "2022-01-24T20:57:08.839Z"
   },
   {
    "duration": 12,
    "start_time": "2022-01-24T20:57:09.500Z"
   },
   {
    "duration": 12,
    "start_time": "2022-01-24T20:57:09.513Z"
   },
   {
    "duration": 13,
    "start_time": "2022-01-24T20:57:09.527Z"
   },
   {
    "duration": 13,
    "start_time": "2022-01-24T20:57:09.542Z"
   },
   {
    "duration": 423,
    "start_time": "2022-01-24T20:57:09.557Z"
   },
   {
    "duration": 20,
    "start_time": "2022-01-24T20:57:09.982Z"
   },
   {
    "duration": 117,
    "start_time": "2022-01-24T20:57:10.004Z"
   },
   {
    "duration": 452,
    "start_time": "2022-01-24T20:57:10.122Z"
   },
   {
    "duration": 4,
    "start_time": "2022-01-24T20:57:10.576Z"
   },
   {
    "duration": 303,
    "start_time": "2022-01-24T20:57:10.582Z"
   },
   {
    "duration": 11,
    "start_time": "2022-01-24T20:57:10.887Z"
   },
   {
    "duration": 58,
    "start_time": "2022-01-24T20:57:10.900Z"
   },
   {
    "duration": 74,
    "start_time": "2022-01-24T20:57:10.960Z"
   },
   {
    "duration": 7,
    "start_time": "2022-01-24T20:57:11.036Z"
   },
   {
    "duration": 8,
    "start_time": "2022-01-24T20:57:11.045Z"
   },
   {
    "duration": 3,
    "start_time": "2022-01-24T20:57:11.055Z"
   },
   {
    "duration": 105,
    "start_time": "2022-01-24T20:57:11.060Z"
   },
   {
    "duration": 4,
    "start_time": "2022-01-24T20:57:11.167Z"
   },
   {
    "duration": 25,
    "start_time": "2022-01-24T20:57:11.173Z"
   },
   {
    "duration": 11,
    "start_time": "2022-01-24T20:57:11.200Z"
   },
   {
    "duration": 14,
    "start_time": "2022-01-24T20:57:11.213Z"
   },
   {
    "duration": 9,
    "start_time": "2022-01-24T20:57:11.229Z"
   },
   {
    "duration": 13,
    "start_time": "2022-01-24T20:57:11.240Z"
   },
   {
    "duration": 42,
    "start_time": "2022-01-24T20:57:11.256Z"
   }
  ],
  "kernelspec": {
   "display_name": "Python 3 (ipykernel)",
   "language": "python",
   "name": "python3"
  },
  "language_info": {
   "codemirror_mode": {
    "name": "ipython",
    "version": 3
   },
   "file_extension": ".py",
   "mimetype": "text/x-python",
   "name": "python",
   "nbconvert_exporter": "python",
   "pygments_lexer": "ipython3",
   "version": "3.9.7"
  },
  "toc": {
   "base_numbering": 1,
   "nav_menu": {},
   "number_sections": true,
   "sideBar": true,
   "skip_h1_title": true,
   "title_cell": "Table of Contents",
   "title_sidebar": "Contents",
   "toc_cell": false,
   "toc_position": {},
   "toc_section_display": true,
   "toc_window_display": false
  }
 },
 "nbformat": 4,
 "nbformat_minor": 2
}
